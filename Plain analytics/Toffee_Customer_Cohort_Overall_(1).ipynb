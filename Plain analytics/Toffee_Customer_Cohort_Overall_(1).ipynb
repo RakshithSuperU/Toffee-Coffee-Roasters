{
  "cells": [
    {
      "cell_type": "code",
      "execution_count": 57,
      "metadata": {
        "id": "EaRbh7G05Vn-"
      },
      "outputs": [],
      "source": [
        "import json\n",
        "import psycopg2\n",
        "import time\n",
        "import pandas as pd\n",
        "from datetime import datetime\n",
        "import numpy as np\n",
        "import math\n",
        "import pickle\n",
        "import os\n",
        "import pandas.io.sql as sqlio\n",
        "import matplotlib.pyplot as plt\n",
        "import seaborn as sns\n",
        "import warnings\n",
        "warnings.filterwarnings(\"ignore\")"
      ]
    },
    {
      "cell_type": "code",
      "execution_count": 92,
      "metadata": {
        "id": "ztuaYuY26Pwd"
      },
      "outputs": [],
      "source": [
        "conn = psycopg2.connect(\n",
        "  port = \"5432\",\n",
        "  host = \"shopify-merchant-dump.ccm9mnr5avgs.ap-south-1.rds.amazonaws.com\",\n",
        "  user = \"toffee_coffee_roasters_69e3f806d0674953afe3d3fb2f724c7c\",\n",
        "  password = \"toffee_coffee_roasters_69e3f806d0674953afe3d3fb2f724c7c_password\",\n",
        "  database = \"toffee_coffee_roasters_69e3f806d0674953afe3d3fb2f724c7c_db\"\n",
        ")"
      ]
    },
    {
      "cell_type": "code",
      "execution_count": 93,
      "metadata": {
        "id": "XxCuUM7l6c29"
      },
      "outputs": [],
      "source": [
        "q='''SELECT created_at as created, id as order_iD, total_price as order_amount, customer_id as user_id from orders WHERE\n",
        "cancelled_at is NULL;\n",
        "'''\n",
        "e=pd.read_sql(q,conn)\n",
        "# e = e[e['created'] >= '2023-01-01']"
      ]
    },
    {
      "cell_type": "code",
      "execution_count": 94,
      "metadata": {},
      "outputs": [
        {
          "data": {
            "text/plain": [
              "72873"
            ]
          },
          "execution_count": 94,
          "metadata": {},
          "output_type": "execute_result"
        }
      ],
      "source": [
        "e['order_id'].nunique()"
      ]
    },
    {
      "cell_type": "code",
      "execution_count": 95,
      "metadata": {
        "colab": {
          "base_uri": "https://localhost:8080/"
        },
        "id": "99zrq0czTBIN",
        "outputId": "c691561c-76c6-4f20-ca2b-c2a95aa4b118"
      },
      "outputs": [
        {
          "data": {
            "text/plain": [
              "44809"
            ]
          },
          "execution_count": 95,
          "metadata": {},
          "output_type": "execute_result"
        }
      ],
      "source": [
        "# e=e[e['created']<='2023/12/31']\n",
        "#e=e[e['created']>='2023/11/29']\n",
        "#e.info()\n",
        "e[\"user_id\"].nunique()"
      ]
    },
    {
      "cell_type": "code",
      "execution_count": 96,
      "metadata": {
        "id": "BZkQTAl-Cj3y"
      },
      "outputs": [],
      "source": [
        "e['WeekCount']=e['created'].dt.strftime('%Y-w%U')"
      ]
    },
    {
      "cell_type": "code",
      "execution_count": 97,
      "metadata": {
        "id": "7MwNlqp8Cp3J"
      },
      "outputs": [],
      "source": [
        "e=e.sort_values('created')\n",
        "WeekList=e['WeekCount'].unique()\n",
        "List=WeekList"
      ]
    },
    {
      "cell_type": "code",
      "execution_count": 98,
      "metadata": {
        "id": "FOVv-Q-i54Ay"
      },
      "outputs": [],
      "source": [
        "e[\"New\"] = 0\n",
        "e['TrxnRank'] = e.groupby('user_id')['created'].rank(method='first')\n",
        "e.loc[e['TrxnRank']==1,'New'] = 1"
      ]
    },
    {
      "cell_type": "code",
      "execution_count": 99,
      "metadata": {
        "id": "xCTDL6FvC5rB"
      },
      "outputs": [],
      "source": [
        "e['OrderDate']=e['created'].dt.date\n",
        "e['OrderDate']=pd.to_datetime(e['OrderDate'])\n",
        "e['DeltaDaysinOrders']=(e.groupby('user_id').OrderDate.shift() - e.OrderDate).dt.days.abs()\n",
        "e['DeltaOrderValues']=(e.groupby('user_id').order_amount.shift() - e.order_amount)"
      ]
    },
    {
      "cell_type": "code",
      "execution_count": 102,
      "metadata": {},
      "outputs": [],
      "source": [
        "e['AOV']=e['order_amount']/e['order_id'].nunique()"
      ]
    },
    {
      "cell_type": "code",
      "execution_count": 103,
      "metadata": {
        "id": "U0jRPM2slDAW"
      },
      "outputs": [],
      "source": [
        "# e['OrderDate']=e['created'].dt.date\n",
        "# e['OrderDate']=pd.to_datetime(k['OrderDate'])\n",
        "\n",
        "x1=e.groupby('user_id').agg(\n",
        "          LastDate=pd.NamedAgg(column='OrderDate', aggfunc= lambda x: x.nlargest(1).min()),\n",
        "          FirstDate=pd.NamedAgg(column='OrderDate', aggfunc='min'),\n",
        "          Frequency=pd.NamedAgg(column='order_id', aggfunc='nunique'),\n",
        "          Total_Order_Amount=pd.NamedAgg(column='order_amount', aggfunc='sum'),\n",
        "          OrderValue=pd.NamedAgg(column='order_amount', aggfunc='sum'),\n",
        "          MeanDaysDelta=pd.NamedAgg(column='DeltaDaysinOrders', aggfunc='mean'),\n",
        "          MeanOVDelta=pd.NamedAgg(column='DeltaOrderValues', aggfunc='mean'),\n",
        "          New=pd.NamedAgg(column='New',aggfunc='mean'),\n",
        "          AOV=pd.NamedAgg(column='AOV',aggfunc='mean')\n",
        "      ).reset_index()\n",
        "globalmaxdate=e['OrderDate'].max()\n",
        "x1['Recency']=globalmaxdate-x1['LastDate']\n",
        "x1['Recency']=x1['Recency'].dt.days.abs()\n",
        "x1['ActivatedQuater']=x1['FirstDate'].dt.to_period('Q')\n",
        "x1['MaturityAge']=np.nan\n",
        "x1.loc[x1['Frequency']>1,\"MaturityAge\"]=(x1['LastDate']-x1['FirstDate']).dt.days.abs()\n",
        "x1['MeanDaysDelta']=x1['MeanDaysDelta'].fillna(0)\n",
        "x1['MeanOVDelta']=x1['MeanOVDelta'].fillna(0)\n"
      ]
    },
    {
      "cell_type": "code",
      "execution_count": 104,
      "metadata": {},
      "outputs": [],
      "source": [
        "\n",
        "r_labels, f_labels,AOV_labels, m_labels,DelAOV_labels = range(4, 0, -1), range(1,5), range(1,5),range(1,5),range(1,5)\n",
        "x1['r_score'] = x1['Recency'].transform(lambda x: pd.qcut(x.rank(method='first'), q = [0, 0.25, 0.5, 0.75, 1], labels = r_labels)).astype('int64')\n",
        "x1['f2d_score'] = x1['Frequency'].transform(lambda x: pd.qcut(x.rank(method='first'), q = [0, 0.25, 0.5, 0.75, 1], labels = f_labels)).astype('int64')\n",
        "x1['AOV_score'] = x1['AOV'].transform(lambda x: pd.qcut(x.rank(method='first'), q = [0, 0.25, 0.5, 0.75, 1], labels = AOV_labels)).astype('int64')\n",
        "x1['m_score']=0\n",
        "x1.loc[x1['MaturityAge'].notnull(),'m_score']= x1.loc[x1['MaturityAge'].notnull()]['MaturityAge'].transform(lambda x: pd.qcut(x.rank(method='first'), q = [0, 0.25, 0.5, 0.75, 1], labels = m_labels)).astype('int64')\n",
        "x1['DelAOV'] = x1['MeanOVDelta'].transform(lambda x: pd.qcut(x.rank(method='first'), q = [0, 0.25, 0.5, 0.75, 1], labels = DelAOV_labels)).astype('int64')\n",
        "x1['SumScore'] = x1['r_score'] + x1['f2d_score'] + x1['m_score'] + x1['AOV_score']+ x1['DelAOV']\n",
        "\n",
        "# def CohortLables_1(df):\n",
        "#   if (df['New']==1 and df['AOV_score']>2):\n",
        "#     return 'New&High Value'\n",
        "#   elif (df['New']==1 and df['AOV_score']<=2):\n",
        "#     return 'New&Low Value'\n",
        "#   elif (df['New']<1 and df['AOV_score']<=2):\n",
        "#     return 'Returning&Low Value'\n",
        "#   else:\n",
        "#     return 'Returning&High Value'\n",
        "\n",
        "# def CohortLables_2(df):\n",
        "#   if ((df['SumScore'] >= 18) and (df['Frequency']>1)):\n",
        "#       return 'Champions'\n",
        "#   elif ((df['m_score'] <=1) and (df['SumScore'] >= 10)and (df['SumScore'] < 18) and (df['r_score'] >1)):\n",
        "#       return 'New&Potential'\n",
        "#   elif ((df['m_score'] >1) and (df['SumScore'] >= 14)and (df['SumScore'] < 18)and (df['r_score'] >1)):\n",
        "#       return 'Mature&Loyal'\n",
        "#   elif ((df['m_score'] >1) and (df['SumScore'] >= 10)and (df['SumScore'] < 14)and (df['r_score'] >1)):\n",
        "#       return 'Mature&Slow'\n",
        "#   elif ((df['m_score'] <=1) and (df['SumScore'] >= 5)and (df['SumScore'] < 10)and (df['r_score'] >1)):\n",
        "#       return 'New&Slow'\n",
        "#   elif ((df['m_score'] >1) and (df['SumScore'] >= 5)and (df['SumScore'] < 10)and (df['r_score'] >1)):\n",
        "#       return 'Mature&ChurnRisk'\n",
        "#   else:\n",
        "#       return 'Churned'\n",
        "\n",
        "def CohortLables_3(df):\n",
        "    if ((df['Frequency']==1) & (df['r_score']>2)):\n",
        "        return \"New\"\n",
        "    elif ((df['Frequency'] == 1) & (df['r_score'] <= 2)):\n",
        "        return 'Churned (Single Use Only)'\n",
        "    elif ((df['Frequency'] > 1) & (df['m_score'] < 3) & (df['r_score'] >2)):\n",
        "        return 'Recent & Loyals'\n",
        "    elif ((df['Frequency'] > 1) & (df['m_score'] >=3) & (df['r_score'] > 2)):\n",
        "        return 'Champions'\n",
        "    else:\n",
        "        return 'Churned (Repeat Use)'"
      ]
    },
    {
      "cell_type": "code",
      "execution_count": 105,
      "metadata": {},
      "outputs": [
        {
          "name": "stdout",
          "output_type": "stream",
          "text": [
            "<class 'pandas.core.frame.DataFrame'>\n",
            "RangeIndex: 44809 entries, 0 to 44808\n",
            "Data columns (total 19 columns):\n",
            " #   Column              Non-Null Count  Dtype         \n",
            "---  ------              --------------  -----         \n",
            " 0   user_id             44809 non-null  float64       \n",
            " 1   LastDate            44809 non-null  datetime64[ns]\n",
            " 2   FirstDate           44809 non-null  datetime64[ns]\n",
            " 3   Frequency           44809 non-null  int64         \n",
            " 4   Total_Order_Amount  44809 non-null  float64       \n",
            " 5   OrderValue          44809 non-null  float64       \n",
            " 6   MeanDaysDelta       44809 non-null  float64       \n",
            " 7   MeanOVDelta         44809 non-null  float64       \n",
            " 8   New                 44809 non-null  float64       \n",
            " 9   AOV                 44809 non-null  float64       \n",
            " 10  Recency             44809 non-null  int64         \n",
            " 11  ActivatedQuater     44809 non-null  period[Q-DEC] \n",
            " 12  MaturityAge         8789 non-null   float64       \n",
            " 13  r_score             44809 non-null  int64         \n",
            " 14  f2d_score           44809 non-null  int64         \n",
            " 15  AOV_score           44809 non-null  int64         \n",
            " 16  m_score             44809 non-null  int64         \n",
            " 17  DelAOV              44809 non-null  int64         \n",
            " 18  SumScore            44809 non-null  int64         \n",
            "dtypes: datetime64[ns](2), float64(8), int64(8), period[Q-DEC](1)\n",
            "memory usage: 6.5 MB\n"
          ]
        }
      ],
      "source": [
        "x1.info()"
      ]
    },
    {
      "cell_type": "code",
      "execution_count": 106,
      "metadata": {},
      "outputs": [],
      "source": [
        "# totalordervalue\n",
        "# totalordercount"
      ]
    },
    {
      "cell_type": "code",
      "execution_count": 107,
      "metadata": {
        "colab": {
          "base_uri": "https://localhost:8080/"
        },
        "id": "za34GC8ysI7E",
        "outputId": "60cdb5fd-80c2-4eae-bac9-8c4504545dca"
      },
      "outputs": [
        {
          "data": {
            "text/plain": [
              "44809"
            ]
          },
          "execution_count": 107,
          "metadata": {},
          "output_type": "execute_result"
        }
      ],
      "source": [
        "x1[\"user_id\"].nunique()"
      ]
    },
    {
      "cell_type": "code",
      "execution_count": 108,
      "metadata": {
        "id": "3j7aQ6GsSiOB"
      },
      "outputs": [],
      "source": [
        "count_customer = e['user_id'].nunique()\n",
        "maxDate = e.OrderDate.max()\n",
        "minDate = e.OrderDate.min()\n",
        "no_of_days = maxDate - minDate\n",
        "no_of_days.days\n",
        "x1['CohortLabel'] = x1.apply(CohortLables_3, axis=1)\n",
        "# if (count_customer<500 or no_of_days.days < 180):\n",
        "#   x1['CohortLabel'] = x1.apply(CohortLables_1, axis=1)\n",
        "# else:\n",
        "#   x1['CohortLabel'] = x1.apply(CohortLables_2, axis=1)"
      ]
    },
    {
      "cell_type": "code",
      "execution_count": 109,
      "metadata": {
        "id": "wHp-PTs_TCEE"
      },
      "outputs": [],
      "source": [
        "segstats=x1.groupby(\n",
        "  'CohortLabel'\n",
        ").agg(\n",
        "      Users=pd.NamedAgg(column='user_id', aggfunc='nunique'),\n",
        "      Recency_in_Days=pd.NamedAgg(column='Recency', aggfunc='mean'),\n",
        "      Average_Order_Frequency=pd.NamedAgg(column='Frequency', aggfunc='mean'),\n",
        "      OrderValue=pd.NamedAgg(column='OrderValue', aggfunc='sum'),\n",
        "      # Total_Order_Value=pd.NamedAgg(column='Total_Order_Value', aggfunc='sum'),\n",
        "      #MeanDaysDelta=pd.NamedAgg(column='MeanDaysDelta', aggfunc='mean'),\n",
        "      #MeanOVDelta=pd.NamedAgg(column='MeanOVDelta', aggfunc='mean'),\n",
        "      #FrequencyperDeltaDays=pd.NamedAgg(column='FrequencyperDeltaDays', aggfunc='mean'),\n",
        "    Maturity=pd.NamedAgg(column='MaturityAge', aggfunc='mean'),\n",
        "    OrderCount=pd.NamedAgg(column='Frequency', aggfunc='sum'),\n",
        ").reset_index()\n",
        "segstats[\"AOV\"]=segstats['OrderValue']/segstats['OrderCount']\n",
        "segstats['OrderValueMix']=segstats['OrderValue']/segstats['OrderValue'].sum()\n",
        "segstats['UsersMix']=segstats['Users']/segstats['Users'].sum()\n",
        "segstats['AOV_Contribution']=segstats['OrderValue']/segstats['OrderCount'].sum()\n",
        "segstats['OrderCountMix']=segstats['OrderCount']/segstats['OrderCount'].sum()"
      ]
    },
    {
      "cell_type": "code",
      "execution_count": 110,
      "metadata": {
        "colab": {
          "base_uri": "https://localhost:8080/",
          "height": 206
        },
        "id": "nmlnnhf5MHDq",
        "outputId": "a2c24384-e52d-4126-c068-5ba2bc657503"
      },
      "outputs": [
        {
          "data": {
            "text/html": [
              "<div>\n",
              "<style scoped>\n",
              "    .dataframe tbody tr th:only-of-type {\n",
              "        vertical-align: middle;\n",
              "    }\n",
              "\n",
              "    .dataframe tbody tr th {\n",
              "        vertical-align: top;\n",
              "    }\n",
              "\n",
              "    .dataframe thead th {\n",
              "        text-align: right;\n",
              "    }\n",
              "</style>\n",
              "<table border=\"1\" class=\"dataframe\">\n",
              "  <thead>\n",
              "    <tr style=\"text-align: right;\">\n",
              "      <th></th>\n",
              "      <th>CohortLabel</th>\n",
              "      <th>Users</th>\n",
              "      <th>Recency_in_Days</th>\n",
              "      <th>Average_Order_Frequency</th>\n",
              "      <th>OrderValue</th>\n",
              "      <th>Maturity</th>\n",
              "      <th>OrderCount</th>\n",
              "      <th>AOV</th>\n",
              "      <th>OrderValueMix</th>\n",
              "      <th>UsersMix</th>\n",
              "      <th>AOV_Contribution</th>\n",
              "      <th>OrderCountMix</th>\n",
              "    </tr>\n",
              "  </thead>\n",
              "  <tbody>\n",
              "    <tr>\n",
              "      <th>0</th>\n",
              "      <td>Champions</td>\n",
              "      <td>2754</td>\n",
              "      <td>106.569717</td>\n",
              "      <td>4.286492</td>\n",
              "      <td>9987255.15</td>\n",
              "      <td>325.969862</td>\n",
              "      <td>11805</td>\n",
              "      <td>846.019072</td>\n",
              "      <td>0.238382</td>\n",
              "      <td>0.061461</td>\n",
              "      <td>157.911254</td>\n",
              "      <td>0.186652</td>\n",
              "    </tr>\n",
              "    <tr>\n",
              "      <th>1</th>\n",
              "      <td>Churned (Repeat Use)</td>\n",
              "      <td>3538</td>\n",
              "      <td>528.041549</td>\n",
              "      <td>2.741379</td>\n",
              "      <td>8617290.51</td>\n",
              "      <td>158.938383</td>\n",
              "      <td>9699</td>\n",
              "      <td>888.472060</td>\n",
              "      <td>0.205683</td>\n",
              "      <td>0.078957</td>\n",
              "      <td>136.250364</td>\n",
              "      <td>0.153354</td>\n",
              "    </tr>\n",
              "    <tr>\n",
              "      <th>2</th>\n",
              "      <td>Churned (Single Use Only)</td>\n",
              "      <td>18866</td>\n",
              "      <td>571.001749</td>\n",
              "      <td>1.000000</td>\n",
              "      <td>13900344.22</td>\n",
              "      <td>NaN</td>\n",
              "      <td>18866</td>\n",
              "      <td>736.793397</td>\n",
              "      <td>0.331782</td>\n",
              "      <td>0.421031</td>\n",
              "      <td>219.782187</td>\n",
              "      <td>0.298296</td>\n",
              "    </tr>\n",
              "    <tr>\n",
              "      <th>3</th>\n",
              "      <td>New</td>\n",
              "      <td>17154</td>\n",
              "      <td>114.202402</td>\n",
              "      <td>1.000000</td>\n",
              "      <td>6808555.20</td>\n",
              "      <td>NaN</td>\n",
              "      <td>17154</td>\n",
              "      <td>396.907730</td>\n",
              "      <td>0.162511</td>\n",
              "      <td>0.382825</td>\n",
              "      <td>107.651950</td>\n",
              "      <td>0.271227</td>\n",
              "    </tr>\n",
              "    <tr>\n",
              "      <th>4</th>\n",
              "      <td>Recent &amp; Loyals</td>\n",
              "      <td>2497</td>\n",
              "      <td>96.764918</td>\n",
              "      <td>2.291550</td>\n",
              "      <td>2582595.60</td>\n",
              "      <td>24.066480</td>\n",
              "      <td>5722</td>\n",
              "      <td>451.344914</td>\n",
              "      <td>0.061643</td>\n",
              "      <td>0.055725</td>\n",
              "      <td>40.834133</td>\n",
              "      <td>0.090472</td>\n",
              "    </tr>\n",
              "  </tbody>\n",
              "</table>\n",
              "</div>"
            ],
            "text/plain": [
              "                 CohortLabel  Users  Recency_in_Days  Average_Order_Frequency  \\\n",
              "0                  Champions   2754       106.569717                 4.286492   \n",
              "1       Churned (Repeat Use)   3538       528.041549                 2.741379   \n",
              "2  Churned (Single Use Only)  18866       571.001749                 1.000000   \n",
              "3                        New  17154       114.202402                 1.000000   \n",
              "4            Recent & Loyals   2497        96.764918                 2.291550   \n",
              "\n",
              "    OrderValue    Maturity  OrderCount         AOV  OrderValueMix  UsersMix  \\\n",
              "0   9987255.15  325.969862       11805  846.019072       0.238382  0.061461   \n",
              "1   8617290.51  158.938383        9699  888.472060       0.205683  0.078957   \n",
              "2  13900344.22         NaN       18866  736.793397       0.331782  0.421031   \n",
              "3   6808555.20         NaN       17154  396.907730       0.162511  0.382825   \n",
              "4   2582595.60   24.066480        5722  451.344914       0.061643  0.055725   \n",
              "\n",
              "   AOV_Contribution  OrderCountMix  \n",
              "0        157.911254       0.186652  \n",
              "1        136.250364       0.153354  \n",
              "2        219.782187       0.298296  \n",
              "3        107.651950       0.271227  \n",
              "4         40.834133       0.090472  "
            ]
          },
          "execution_count": 110,
          "metadata": {},
          "output_type": "execute_result"
        }
      ],
      "source": [
        "segstats"
      ]
    },
    {
      "cell_type": "code",
      "execution_count": 111,
      "metadata": {
        "colab": {
          "base_uri": "https://localhost:8080/",
          "height": 237
        },
        "id": "0WWLm51HnLxu",
        "outputId": "6d21c915-091e-4415-dd2e-e8345fb7a9fd"
      },
      "outputs": [
        {
          "data": {
            "text/html": [
              "<div>\n",
              "<style scoped>\n",
              "    .dataframe tbody tr th:only-of-type {\n",
              "        vertical-align: middle;\n",
              "    }\n",
              "\n",
              "    .dataframe tbody tr th {\n",
              "        vertical-align: top;\n",
              "    }\n",
              "\n",
              "    .dataframe thead th {\n",
              "        text-align: right;\n",
              "    }\n",
              "</style>\n",
              "<table border=\"1\" class=\"dataframe\">\n",
              "  <thead>\n",
              "    <tr style=\"text-align: right;\">\n",
              "      <th></th>\n",
              "      <th>CohortLabel</th>\n",
              "      <th>Users</th>\n",
              "      <th>Recency_in_Days</th>\n",
              "      <th>Average_Order_Frequency</th>\n",
              "      <th>OrderValue</th>\n",
              "      <th>Maturity</th>\n",
              "      <th>OrderCount</th>\n",
              "      <th>AOV</th>\n",
              "      <th>OrderValueMix</th>\n",
              "      <th>UsersMix</th>\n",
              "      <th>AOV_Contribution</th>\n",
              "      <th>OrderCountMix</th>\n",
              "    </tr>\n",
              "  </thead>\n",
              "  <tbody>\n",
              "    <tr>\n",
              "      <th>0</th>\n",
              "      <td>Champions</td>\n",
              "      <td>2754.0</td>\n",
              "      <td>106.569717</td>\n",
              "      <td>4.286492</td>\n",
              "      <td>9987255.15</td>\n",
              "      <td>325.969862</td>\n",
              "      <td>11805.0</td>\n",
              "      <td>846.019072</td>\n",
              "      <td>0.238382</td>\n",
              "      <td>0.061461</td>\n",
              "      <td>157.911254</td>\n",
              "      <td>0.186652</td>\n",
              "    </tr>\n",
              "    <tr>\n",
              "      <th>1</th>\n",
              "      <td>Churned (Repeat Use)</td>\n",
              "      <td>3538.0</td>\n",
              "      <td>528.041549</td>\n",
              "      <td>2.741379</td>\n",
              "      <td>8617290.51</td>\n",
              "      <td>158.938383</td>\n",
              "      <td>9699.0</td>\n",
              "      <td>888.472060</td>\n",
              "      <td>0.205683</td>\n",
              "      <td>0.078957</td>\n",
              "      <td>136.250364</td>\n",
              "      <td>0.153354</td>\n",
              "    </tr>\n",
              "    <tr>\n",
              "      <th>2</th>\n",
              "      <td>Churned (Single Use Only)</td>\n",
              "      <td>18866.0</td>\n",
              "      <td>571.001749</td>\n",
              "      <td>1.000000</td>\n",
              "      <td>13900344.22</td>\n",
              "      <td>NaN</td>\n",
              "      <td>18866.0</td>\n",
              "      <td>736.793397</td>\n",
              "      <td>0.331782</td>\n",
              "      <td>0.421031</td>\n",
              "      <td>219.782187</td>\n",
              "      <td>0.298296</td>\n",
              "    </tr>\n",
              "    <tr>\n",
              "      <th>3</th>\n",
              "      <td>New</td>\n",
              "      <td>17154.0</td>\n",
              "      <td>114.202402</td>\n",
              "      <td>1.000000</td>\n",
              "      <td>6808555.20</td>\n",
              "      <td>NaN</td>\n",
              "      <td>17154.0</td>\n",
              "      <td>396.907730</td>\n",
              "      <td>0.162511</td>\n",
              "      <td>0.382825</td>\n",
              "      <td>107.651950</td>\n",
              "      <td>0.271227</td>\n",
              "    </tr>\n",
              "    <tr>\n",
              "      <th>4</th>\n",
              "      <td>Recent &amp; Loyals</td>\n",
              "      <td>2497.0</td>\n",
              "      <td>96.764918</td>\n",
              "      <td>2.291550</td>\n",
              "      <td>2582595.60</td>\n",
              "      <td>24.066480</td>\n",
              "      <td>5722.0</td>\n",
              "      <td>451.344914</td>\n",
              "      <td>0.061643</td>\n",
              "      <td>0.055725</td>\n",
              "      <td>40.834133</td>\n",
              "      <td>0.090472</td>\n",
              "    </tr>\n",
              "    <tr>\n",
              "      <th>5</th>\n",
              "      <td>Overall</td>\n",
              "      <td>44809.0</td>\n",
              "      <td>1416.580335</td>\n",
              "      <td>11.319422</td>\n",
              "      <td>41896040.68</td>\n",
              "      <td>508.974725</td>\n",
              "      <td>63246.0</td>\n",
              "      <td>3319.537173</td>\n",
              "      <td>1.000000</td>\n",
              "      <td>1.000000</td>\n",
              "      <td>662.429888</td>\n",
              "      <td>1.000000</td>\n",
              "    </tr>\n",
              "  </tbody>\n",
              "</table>\n",
              "</div>"
            ],
            "text/plain": [
              "                 CohortLabel    Users  Recency_in_Days  \\\n",
              "0                  Champions   2754.0       106.569717   \n",
              "1       Churned (Repeat Use)   3538.0       528.041549   \n",
              "2  Churned (Single Use Only)  18866.0       571.001749   \n",
              "3                        New  17154.0       114.202402   \n",
              "4            Recent & Loyals   2497.0        96.764918   \n",
              "5                    Overall  44809.0      1416.580335   \n",
              "\n",
              "   Average_Order_Frequency   OrderValue    Maturity  OrderCount          AOV  \\\n",
              "0                 4.286492   9987255.15  325.969862     11805.0   846.019072   \n",
              "1                 2.741379   8617290.51  158.938383      9699.0   888.472060   \n",
              "2                 1.000000  13900344.22         NaN     18866.0   736.793397   \n",
              "3                 1.000000   6808555.20         NaN     17154.0   396.907730   \n",
              "4                 2.291550   2582595.60   24.066480      5722.0   451.344914   \n",
              "5                11.319422  41896040.68  508.974725     63246.0  3319.537173   \n",
              "\n",
              "   OrderValueMix  UsersMix  AOV_Contribution  OrderCountMix  \n",
              "0       0.238382  0.061461        157.911254       0.186652  \n",
              "1       0.205683  0.078957        136.250364       0.153354  \n",
              "2       0.331782  0.421031        219.782187       0.298296  \n",
              "3       0.162511  0.382825        107.651950       0.271227  \n",
              "4       0.061643  0.055725         40.834133       0.090472  \n",
              "5       1.000000  1.000000        662.429888       1.000000  "
            ]
          },
          "execution_count": 111,
          "metadata": {},
          "output_type": "execute_result"
        }
      ],
      "source": [
        "sum_row = segstats.sum(numeric_only=True)\n",
        "segstats = pd.concat([segstats, sum_row.to_frame().T], ignore_index=True)\n",
        "segstats.at[segstats.index[-1], 'CohortLabel'] = 'Overall'\n",
        "segstats\n"
      ]
    },
    {
      "cell_type": "code",
      "execution_count": 112,
      "metadata": {
        "id": "7RP3CmDVo54e"
      },
      "outputs": [],
      "source": [
        "def weighted_average_column(df, column_name, weights_column):\n",
        "    data = df[column_name]\n",
        "    weights = df[weights_column]\n",
        "\n",
        "    if weights.sum() == 0:\n",
        "        raise ValueError(\"Total weight must be greater than 0.\")\n",
        "\n",
        "    return (data * weights).sum() / weights.sum()\n",
        "\n",
        "h = weighted_average_column(segstats, 'Maturity', 'Users')\n",
        "# g = weighted_average_column(segstats, 'Frequency', 'Users')"
      ]
    },
    {
      "cell_type": "code",
      "execution_count": 121,
      "metadata": {
        "colab": {
          "base_uri": "https://localhost:8080/",
          "height": 237
        },
        "id": "y9AdFUsNlyLn",
        "outputId": "2e50f5f9-17aa-4848-fd81-133611da1db2"
      },
      "outputs": [
        {
          "data": {
            "text/html": [
              "<div>\n",
              "<style scoped>\n",
              "    .dataframe tbody tr th:only-of-type {\n",
              "        vertical-align: middle;\n",
              "    }\n",
              "\n",
              "    .dataframe tbody tr th {\n",
              "        vertical-align: top;\n",
              "    }\n",
              "\n",
              "    .dataframe thead th {\n",
              "        text-align: right;\n",
              "    }\n",
              "</style>\n",
              "<table border=\"1\" class=\"dataframe\">\n",
              "  <thead>\n",
              "    <tr style=\"text-align: right;\">\n",
              "      <th></th>\n",
              "      <th>CohortLabel</th>\n",
              "      <th>Users</th>\n",
              "      <th>Recency_in_Days</th>\n",
              "      <th>Average_Order_Frequency</th>\n",
              "      <th>OrderValue</th>\n",
              "      <th>Maturity</th>\n",
              "      <th>OrderCount</th>\n",
              "      <th>AOV</th>\n",
              "      <th>OrderValueMix</th>\n",
              "      <th>UsersMix</th>\n",
              "      <th>AOV_Contribution</th>\n",
              "      <th>OrderCountMix</th>\n",
              "    </tr>\n",
              "  </thead>\n",
              "  <tbody>\n",
              "    <tr>\n",
              "      <th>0</th>\n",
              "      <td>Champions</td>\n",
              "      <td>2754.0</td>\n",
              "      <td>106.569717</td>\n",
              "      <td>4.286492</td>\n",
              "      <td>9987255.15</td>\n",
              "      <td>325.969862</td>\n",
              "      <td>11805.0</td>\n",
              "      <td>846.019072</td>\n",
              "      <td>0.238382</td>\n",
              "      <td>0.061461</td>\n",
              "      <td>157.911254</td>\n",
              "      <td>0.186652</td>\n",
              "    </tr>\n",
              "    <tr>\n",
              "      <th>1</th>\n",
              "      <td>Churned (Repeat Use)</td>\n",
              "      <td>3538.0</td>\n",
              "      <td>528.041549</td>\n",
              "      <td>2.741379</td>\n",
              "      <td>8617290.51</td>\n",
              "      <td>158.938383</td>\n",
              "      <td>9699.0</td>\n",
              "      <td>888.472060</td>\n",
              "      <td>0.205683</td>\n",
              "      <td>0.078957</td>\n",
              "      <td>136.250364</td>\n",
              "      <td>0.153354</td>\n",
              "    </tr>\n",
              "    <tr>\n",
              "      <th>2</th>\n",
              "      <td>Churned (Single Use Only)</td>\n",
              "      <td>18866.0</td>\n",
              "      <td>571.001749</td>\n",
              "      <td>1.000000</td>\n",
              "      <td>13900344.22</td>\n",
              "      <td>0.000000</td>\n",
              "      <td>18866.0</td>\n",
              "      <td>736.793397</td>\n",
              "      <td>0.331782</td>\n",
              "      <td>0.421031</td>\n",
              "      <td>219.782187</td>\n",
              "      <td>0.298296</td>\n",
              "    </tr>\n",
              "    <tr>\n",
              "      <th>3</th>\n",
              "      <td>New</td>\n",
              "      <td>17154.0</td>\n",
              "      <td>114.202402</td>\n",
              "      <td>1.000000</td>\n",
              "      <td>6808555.20</td>\n",
              "      <td>0.000000</td>\n",
              "      <td>17154.0</td>\n",
              "      <td>396.907730</td>\n",
              "      <td>0.162511</td>\n",
              "      <td>0.382825</td>\n",
              "      <td>107.651950</td>\n",
              "      <td>0.271227</td>\n",
              "    </tr>\n",
              "    <tr>\n",
              "      <th>4</th>\n",
              "      <td>Recent &amp; Loyals</td>\n",
              "      <td>2497.0</td>\n",
              "      <td>96.764918</td>\n",
              "      <td>2.291550</td>\n",
              "      <td>2582595.60</td>\n",
              "      <td>24.066480</td>\n",
              "      <td>5722.0</td>\n",
              "      <td>451.344914</td>\n",
              "      <td>0.061643</td>\n",
              "      <td>0.055725</td>\n",
              "      <td>40.834133</td>\n",
              "      <td>0.090472</td>\n",
              "    </tr>\n",
              "    <tr>\n",
              "      <th>5</th>\n",
              "      <td>Overall</td>\n",
              "      <td>44809.0</td>\n",
              "      <td>96.764918</td>\n",
              "      <td>1.411458</td>\n",
              "      <td>41896040.68</td>\n",
              "      <td>271.449792</td>\n",
              "      <td>63246.0</td>\n",
              "      <td>662.429888</td>\n",
              "      <td>1.000000</td>\n",
              "      <td>1.000000</td>\n",
              "      <td>662.429888</td>\n",
              "      <td>1.000000</td>\n",
              "    </tr>\n",
              "  </tbody>\n",
              "</table>\n",
              "</div>"
            ],
            "text/plain": [
              "                 CohortLabel    Users  Recency_in_Days  \\\n",
              "0                  Champions   2754.0       106.569717   \n",
              "1       Churned (Repeat Use)   3538.0       528.041549   \n",
              "2  Churned (Single Use Only)  18866.0       571.001749   \n",
              "3                        New  17154.0       114.202402   \n",
              "4            Recent & Loyals   2497.0        96.764918   \n",
              "5                    Overall  44809.0        96.764918   \n",
              "\n",
              "   Average_Order_Frequency   OrderValue    Maturity  OrderCount         AOV  \\\n",
              "0                 4.286492   9987255.15  325.969862     11805.0  846.019072   \n",
              "1                 2.741379   8617290.51  158.938383      9699.0  888.472060   \n",
              "2                 1.000000  13900344.22    0.000000     18866.0  736.793397   \n",
              "3                 1.000000   6808555.20    0.000000     17154.0  396.907730   \n",
              "4                 2.291550   2582595.60   24.066480      5722.0  451.344914   \n",
              "5                 1.411458  41896040.68  271.449792     63246.0  662.429888   \n",
              "\n",
              "   OrderValueMix  UsersMix  AOV_Contribution  OrderCountMix  \n",
              "0       0.238382  0.061461        157.911254       0.186652  \n",
              "1       0.205683  0.078957        136.250364       0.153354  \n",
              "2       0.331782  0.421031        219.782187       0.298296  \n",
              "3       0.162511  0.382825        107.651950       0.271227  \n",
              "4       0.061643  0.055725         40.834133       0.090472  \n",
              "5       1.000000  1.000000        662.429888       1.000000  "
            ]
          },
          "execution_count": 121,
          "metadata": {},
          "output_type": "execute_result"
        }
      ],
      "source": [
        "segstats.loc[segstats['CohortLabel'] == 'Overall', 'Recency_in_Days'] = segstats['Recency_in_Days'].min()\n",
        "segstats.loc[segstats['CohortLabel'] == 'Overall', 'Average_Order_Frequency'] = segstats['OrderCount'].sum()/segstats['Users'].sum()\n",
        "segstats.loc[segstats['CohortLabel'] == 'Overall', 'AOV'] = segstats['OrderValue'].sum()/segstats['OrderCount'].sum()\n",
        "segstats.loc[segstats['CohortLabel'] == 'Overall', 'Maturity'] = h\n",
        "segstats.fillna(0)"
      ]
    },
    {
      "cell_type": "code",
      "execution_count": 122,
      "metadata": {
        "id": "wDoy4E3soaQE"
      },
      "outputs": [],
      "source": [
        "# segstats.to_csv(\"Paakhi_Dsummaytf.csv\", index=False)"
      ]
    },
    {
      "cell_type": "code",
      "execution_count": 123,
      "metadata": {
        "colab": {
          "base_uri": "https://localhost:8080/",
          "height": 560
        },
        "id": "OHzbN86cSHEQ",
        "outputId": "721c0738-69e2-42e1-aeba-345390e580f1"
      },
      "outputs": [
        {
          "data": {
            "image/png": "[encoded data removed]",
            "text/plain": [
              "<Figure size 1200x600 with 1 Axes>"
            ]
          },
          "metadata": {},
          "output_type": "display_data"
        }
      ],
      "source": [
        "column_to_plot = 'OrderCount'\n",
        "x_labels = segstats['CohortLabel']\n",
        "plt.figure(figsize=(12, 6))  # Adjust the figure size if needed\n",
        "plt.bar(x_labels, segstats[column_to_plot])\n",
        "plt.xlabel('CohortLabel')\n",
        "plt.ylabel(column_to_plot)\n",
        "plt.title(f'{column_to_plot} across Customer Cohorts')\n",
        "plt.xticks(fontsize=8)\n",
        "plt.show()"
      ]
    },
    {
      "cell_type": "code",
      "execution_count": null,
      "metadata": {
        "id": "26iCSBEG58Mg"
      },
      "outputs": [],
      "source": []
    },
    {
      "cell_type": "code",
      "execution_count": null,
      "metadata": {
        "id": "SaeFUE-H58Mg"
      },
      "outputs": [],
      "source": []
    },
    {
      "cell_type": "code",
      "execution_count": null,
      "metadata": {
        "id": "LWZJXS7P58Mg"
      },
      "outputs": [],
      "source": []
    },
    {
      "cell_type": "code",
      "execution_count": null,
      "metadata": {
        "id": "yDvg2cvJ58Mg"
      },
      "outputs": [],
      "source": []
    }
  ],
  "metadata": {
    "colab": {
      "provenance": []
    },
    "kernelspec": {
      "display_name": "Python 3 (ipykernel)",
      "language": "python",
      "name": "python3"
    },
    "language_info": {
      "codemirror_mode": {
        "name": "ipython",
        "version": 3
      },
      "file_extension": ".py",
      "mimetype": "text/x-python",
      "name": "python",
      "nbconvert_exporter": "python",
      "pygments_lexer": "ipython3",
      "version": "3.12.0"
    }
  },
  "nbformat": 4,
  "nbformat_minor": 0
}
