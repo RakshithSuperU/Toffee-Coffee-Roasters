{
  "cells": [
    {
      "cell_type": "code",
      "execution_count": 201,
      "metadata": {
        "id": "EaRbh7G05Vn-"
      },
      "outputs": [],
      "source": [
        "import json\n",
        "import psycopg2\n",
        "import time\n",
        "import pandas as pd\n",
        "from datetime import datetime\n",
        "import numpy as np\n",
        "import math\n",
        "import pickle\n",
        "import os\n",
        "import pandas.io.sql as sqlio\n",
        "import matplotlib.pyplot as plt\n",
        "import seaborn as sns\n",
        "import warnings\n",
        "warnings.filterwarnings(\"ignore\")"
      ]
    },
    {
      "cell_type": "code",
      "execution_count": 202,
      "metadata": {
        "id": "ztuaYuY26Pwd"
      },
      "outputs": [],
      "source": [
        "conn = psycopg2.connect(\n",
        "    port = \"5432\",\n",
        "host = \"shopify-merchant-dump.ccm9mnr5avgs.ap-south-1.rds.amazonaws.com\",\n",
        "  user = \"toffee_coffee_roasters_69e3f806d0674953afe3d3fb2f724c7c\",\n",
        "  password = \"toffee_coffee_roasters_69e3f806d0674953afe3d3fb2f724c7c_password\",\n",
        "  database = \"toffee_coffee_roasters_69e3f806d0674953afe3d3fb2f724c7c_db\"\n",
        ")"
      ]
    },
    {
      "cell_type": "code",
      "execution_count": 203,
      "metadata": {
        "id": "XxCuUM7l6c29"
      },
      "outputs": [],
      "source": [
        "q='''SELECT created_at as created, id as order_iD, total_price as order_amount, customer_id as user_id from orders WHERE\n",
        "cancelled_at is NULL;\n",
        "'''\n",
        "e=pd.read_sql(q,conn)"
      ]
    },
    {
      "cell_type": "code",
      "execution_count": 179,
      "metadata": {
        "id": "99zrq0czTBIN"
      },
      "outputs": [],
      "source": [
        "# e=e[e['created']>='2023/01/01']\n",
        "# e=e[e['created']<='2023/12/31']"
      ]
    },
    {
      "cell_type": "code",
      "execution_count": 206,
      "metadata": {},
      "outputs": [],
      "source": [
        "e = e.dropna()"
      ]
    },
    {
      "cell_type": "code",
      "execution_count": 208,
      "metadata": {
        "id": "BZkQTAl-Cj3y"
      },
      "outputs": [],
      "source": [
        "e['WeekCount']=e['created'].dt.strftime('%Y-w%U')"
      ]
    },
    {
      "cell_type": "code",
      "execution_count": 209,
      "metadata": {
        "id": "7MwNlqp8Cp3J"
      },
      "outputs": [],
      "source": [
        "e=e.sort_values('created')\n",
        "WeekList=e['WeekCount'].unique()"
      ]
    },
    {
      "cell_type": "code",
      "execution_count": 212,
      "metadata": {
        "id": "FOVv-Q-i54Ay"
      },
      "outputs": [],
      "source": [
        "#change\n",
        "e[\"New\"] = 0\n",
        "e['TrxnRank'] = e.groupby('user_id')['created'].rank(method='first')\n",
        "e.loc[e['TrxnRank']==1,'New'] = 1"
      ]
    },
    {
      "cell_type": "code",
      "execution_count": 213,
      "metadata": {
        "id": "xCTDL6FvC5rB"
      },
      "outputs": [],
      "source": [
        "e['OrderDate']=e['created'].dt.date\n",
        "e['OrderDate']=pd.to_datetime(e['OrderDate'])\n",
        "e['DeltaDaysinOrders']=(e.groupby('user_id').OrderDate.shift() - e.OrderDate).dt.days.abs()\n",
        "e['DeltaOrderValues']=(e.groupby('user_id').order_amount.shift() - e.order_amount)"
      ]
    },
    {
      "cell_type": "code",
      "execution_count": 214,
      "metadata": {
        "id": "U0jRPM2slDAW"
      },
      "outputs": [],
      "source": [
        "x1=e.groupby('user_id').agg(\n",
        "          LastDate=pd.NamedAgg(column='OrderDate', aggfunc= lambda x: x.nlargest(1).min()),\n",
        "          FirstDate=pd.NamedAgg(column='OrderDate', aggfunc='min'),\n",
        "          Frequency=pd.NamedAgg(column='order_id', aggfunc='nunique'),\n",
        "          AOV=pd.NamedAgg(column='order_amount', aggfunc='mean'),\n",
        "          OrderValue=pd.NamedAgg(column='order_amount', aggfunc='sum'),#change\n",
        "          MeanDaysDelta=pd.NamedAgg(column='DeltaDaysinOrders', aggfunc='mean'),\n",
        "          MeanOVDelta=pd.NamedAgg(column='DeltaOrderValues', aggfunc='mean'),\n",
        "          TotalTransactions=pd.NamedAgg(column='order_id', aggfunc='nunique'),\n",
        "          New=pd.NamedAgg(column='New',aggfunc='mean')#change\n",
        "      ).reset_index()\n",
        "globalmaxdate=e['OrderDate'].max()\n",
        "x1['Recency']=globalmaxdate-x1['LastDate']\n",
        "x1['Recency']=x1['Recency'].dt.days.abs()\n",
        "x1['ActivatedQuater']=x1['FirstDate'].dt.to_period('Q')\n",
        "x1['MaturityAge']=np.nan\n",
        "x1.loc[x1['Frequency']>1,\"MaturityAge\"]=(x1['LastDate']-x1['FirstDate']).dt.days.abs()\n",
        "x1['MeanDaysDelta']=x1['MeanDaysDelta'].fillna(0)\n",
        "x1['MeanOVDelta']=x1['MeanOVDelta'].fillna(0)\n",
        "\n",
        "r_labels, f_labels,AOV_labels, m_labels,DelAOV_labels = range(4, 0, -1), range(1,5), range(1,5),range(1,5),range(1,5)\n",
        "x1['r_score'] = x1['Recency'].transform(lambda x: pd.qcut(x.rank(method='first'), q = [0, 0.25, 0.5, 0.75, 1], labels = r_labels)).astype('int64')\n",
        "x1['f2d_score'] = x1['Frequency'].transform(lambda x: pd.qcut(x.rank(method='first'), q = [0, 0.25, 0.5, 0.75, 1], labels = f_labels)).astype('int64')\n",
        "x1['AOV_score'] = x1['AOV'].transform(lambda x: pd.qcut(x.rank(method='first'), q = [0, 0.25, 0.5, 0.75, 1], labels = AOV_labels)).astype('int64')\n",
        "x1['m_score']=0\n",
        "x1.loc[x1['MaturityAge'].notnull(),'m_score']= x1.loc[x1['MaturityAge'].notnull()]['MaturityAge'].transform(lambda x: pd.qcut(x.rank(method='first'), q = [0, 0.25, 0.5, 0.75, 1], labels = m_labels)).astype('int64')\n",
        "x1['DelAOV'] = x1['MeanOVDelta'].transform(lambda x: pd.qcut(x.rank(method='first'), q = [0, 0.25, 0.5, 0.75, 1], labels = DelAOV_labels)).astype('int64')\n",
        "x1['SumScore'] = x1['r_score'] + x1['f2d_score'] + x1['m_score'] + x1['AOV_score']+ x1['DelAOV']\n",
        "\n",
        "def CohortLables_3(df):\n",
        "    if ((df['Frequency']==1) & (df['r_score']>2)):\n",
        "        return \"New Users\"\n",
        "    elif ((df['Frequency'] == 1) & (df['r_score'] <= 2)):\n",
        "        return 'Churned Users'\n",
        "    elif ((df['Frequency'] > 1) & (df['m_score'] < 3) & (df['r_score'] >2)):\n",
        "        return 'Recent & Loyal Users'\n",
        "    elif ((df['Frequency'] > 1) & (df['m_score'] >=3) & (df['r_score'] > 2)):\n",
        "        return 'Champion Users'\n",
        "    else:\n",
        "        return 'Repeat Churned Users'\n",
        "x1['CohortLabel'] = x1.apply(CohortLables_3, axis=1)"
      ]
    },
    {
      "cell_type": "code",
      "execution_count": 215,
      "metadata": {
        "id": "wHp-PTs_TCEE"
      },
      "outputs": [],
      "source": [
        "# change\n",
        "segstats=x1.groupby(\n",
        "  'CohortLabel'\n",
        ").agg(\n",
        "      Users=pd.NamedAgg(column='user_id', aggfunc='nunique'),\n",
        "      Recency=pd.NamedAgg(column='Recency', aggfunc='mean'),\n",
        "      Frequency=pd.NamedAgg(column='Frequency', aggfunc='mean'),\n",
        "      OrderValue=pd.NamedAgg(column='OrderValue', aggfunc='sum'), #change\n",
        "      #MeanDaysDelta=pd.NamedAgg(column='MeanDaysDelta', aggfunc='mean'),\n",
        "      #MeanOVDelta=pd.NamedAgg(column='MeanOVDelta', aggfunc='mean'),\n",
        "      #FrequencyperDeltaDays=pd.NamedAgg(column='FrequencyperDeltaDays', aggfunc='mean'),\n",
        "    Maturity=pd.NamedAgg(column='MaturityAge', aggfunc='mean'),\n",
        "    OrderCount=pd.NamedAgg(column='Frequency', aggfunc='sum'),\n",
        ").reset_index()\n",
        "segstats[\"AOV\"]=segstats['OrderValue']/segstats['OrderCount']\n",
        "segstats['OrderValueMix']=segstats['OrderValue']/segstats['OrderValue'].sum()\n",
        "segstats['UsersMix']=segstats['Users']/segstats['Users'].sum()\n",
        "segstats['AOV_Contribution']=segstats['OrderValue']/segstats['OrderCount'].sum()\n",
        "segstats['OrderCountMix']=segstats['OrderCount']/segstats['OrderCount'].sum()"
      ]
    },
    {
      "cell_type": "code",
      "execution_count": 216,
      "metadata": {
        "id": "ikdZkDCzIs9C"
      },
      "outputs": [],
      "source": [
        "# change\n",
        "overall_totals = segstats.drop(columns='CohortLabel').sum().tolist()\n",
        "overall_totals.insert(0, 'Overall')\n",
        "overall_df = pd.DataFrame([overall_totals], columns=segstats.columns)\n",
        "segstats = pd.concat([segstats, overall_df], ignore_index=True)"
      ]
    },
    {
      "cell_type": "code",
      "execution_count": 217,
      "metadata": {
        "id": "7RP3CmDVo54e"
      },
      "outputs": [],
      "source": [
        "# change\n",
        "def weighted_average_column(df, column_name, weights_column):\n",
        "    data = df[column_name]\n",
        "    weights = df[weights_column]\n",
        "\n",
        "    if weights.sum() == 0:\n",
        "        raise ValueError(\"Total weight must be greater than 0.\")\n",
        "\n",
        "    return (data * weights).sum() / weights.sum()\n",
        "\n",
        "h = weighted_average_column(segstats, 'Maturity', 'Users')"
      ]
    },
    {
      "cell_type": "code",
      "execution_count": 218,
      "metadata": {
        "id": "y9AdFUsNlyLn"
      },
      "outputs": [],
      "source": [
        "#change\n",
        "segstats.loc[segstats['CohortLabel'] == 'Overall', 'Recency'] = segstats['Recency'].min()\n",
        "segstats.loc[segstats['CohortLabel'] == 'Overall', 'Frequency'] = segstats['OrderCount'].sum()/segstats['Users'].sum()\n",
        "segstats.loc[segstats['CohortLabel'] == 'Overall', 'AOV'] = segstats['OrderValue'].sum()/segstats['OrderCount'].sum()\n",
        "segstats.loc[segstats['CohortLabel'] == 'Overall', 'Maturity']= h"
      ]
    },
    {
      "cell_type": "code",
      "execution_count": 219,
      "metadata": {},
      "outputs": [],
      "source": [
        "# change\n",
        "segstats = (\n",
        "    segstats\n",
        "    .fillna(-999999)\n",
        "    .astype({'Users': int, 'Recency': int, 'Frequency': int, 'Maturity': int, 'OrderCount': int})\n",
        "    .round({'OrderValue': 2, 'AOV': 2, 'AOV_Contribution': 2, 'OrderValueMix': 2, 'UsersMix': 2, 'OrderCountMix': 2})\n",
        "    .replace(-999999, np.nan)\n",
        ")"
      ]
    },
    {
      "cell_type": "code",
      "execution_count": 221,
      "metadata": {},
      "outputs": [],
      "source": [
        "segstats[\"OrderCountMix\"] = segstats[\"OrderCountMix\"].apply(lambda x: \"{:.0%}\".format(x))\n",
        "segstats[\"OrderValueMix\"] = segstats[\"OrderValueMix\"].apply(lambda x: \"{:.0%}\".format(x))\n",
        "segstats[\"UsersMix\"] = segstats[\"UsersMix\"].apply(lambda x: \"{:.0%}\".format(x))"
      ]
    },
    {
      "cell_type": "code",
      "execution_count": 223,
      "metadata": {},
      "outputs": [
        {
          "data": {
            "text/html": [
              "<div>\n",
              "<style scoped>\n",
              "    .dataframe tbody tr th:only-of-type {\n",
              "        vertical-align: middle;\n",
              "    }\n",
              "\n",
              "    .dataframe tbody tr th {\n",
              "        vertical-align: top;\n",
              "    }\n",
              "\n",
              "    .dataframe thead th {\n",
              "        text-align: right;\n",
              "    }\n",
              "</style>\n",
              "<table border=\"1\" class=\"dataframe\">\n",
              "  <thead>\n",
              "    <tr style=\"text-align: right;\">\n",
              "      <th></th>\n",
              "      <th>CohortLabel</th>\n",
              "      <th>Users</th>\n",
              "      <th>Recency</th>\n",
              "      <th>Frequency</th>\n",
              "      <th>OrderValue</th>\n",
              "      <th>Maturity</th>\n",
              "      <th>OrderCount</th>\n",
              "      <th>AOV</th>\n",
              "      <th>OrderValueMix</th>\n",
              "      <th>UsersMix</th>\n",
              "      <th>AOV_Contribution</th>\n",
              "      <th>OrderCountMix</th>\n",
              "    </tr>\n",
              "  </thead>\n",
              "  <tbody>\n",
              "    <tr>\n",
              "      <th>0</th>\n",
              "      <td>Champion Users</td>\n",
              "      <td>2759</td>\n",
              "      <td>109</td>\n",
              "      <td>4</td>\n",
              "      <td>10013100.15</td>\n",
              "      <td>326.0</td>\n",
              "      <td>11839</td>\n",
              "      <td>845.77</td>\n",
              "      <td>24%</td>\n",
              "      <td>6%</td>\n",
              "      <td>158.18</td>\n",
              "      <td>19%</td>\n",
              "    </tr>\n",
              "    <tr>\n",
              "      <th>1</th>\n",
              "      <td>Churned Users</td>\n",
              "      <td>18870</td>\n",
              "      <td>574</td>\n",
              "      <td>1</td>\n",
              "      <td>13903478.22</td>\n",
              "      <td>NaN</td>\n",
              "      <td>18870</td>\n",
              "      <td>736.80</td>\n",
              "      <td>33%</td>\n",
              "      <td>42%</td>\n",
              "      <td>219.64</td>\n",
              "      <td>30%</td>\n",
              "    </tr>\n",
              "    <tr>\n",
              "      <th>2</th>\n",
              "      <td>New Users</td>\n",
              "      <td>17153</td>\n",
              "      <td>118</td>\n",
              "      <td>1</td>\n",
              "      <td>6805813.20</td>\n",
              "      <td>NaN</td>\n",
              "      <td>17153</td>\n",
              "      <td>396.77</td>\n",
              "      <td>16%</td>\n",
              "      <td>38%</td>\n",
              "      <td>107.52</td>\n",
              "      <td>27%</td>\n",
              "    </tr>\n",
              "    <tr>\n",
              "      <th>3</th>\n",
              "      <td>Recent &amp; Loyal Users</td>\n",
              "      <td>2502</td>\n",
              "      <td>100</td>\n",
              "      <td>2</td>\n",
              "      <td>2581954.60</td>\n",
              "      <td>24.0</td>\n",
              "      <td>5731</td>\n",
              "      <td>450.52</td>\n",
              "      <td>6%</td>\n",
              "      <td>6%</td>\n",
              "      <td>40.79</td>\n",
              "      <td>9%</td>\n",
              "    </tr>\n",
              "    <tr>\n",
              "      <th>4</th>\n",
              "      <td>Repeat Churned Users</td>\n",
              "      <td>3543</td>\n",
              "      <td>531</td>\n",
              "      <td>2</td>\n",
              "      <td>8621148.51</td>\n",
              "      <td>158.0</td>\n",
              "      <td>9708</td>\n",
              "      <td>888.05</td>\n",
              "      <td>21%</td>\n",
              "      <td>8%</td>\n",
              "      <td>136.19</td>\n",
              "      <td>15%</td>\n",
              "    </tr>\n",
              "    <tr>\n",
              "      <th>5</th>\n",
              "      <td>Overall</td>\n",
              "      <td>44827</td>\n",
              "      <td>100</td>\n",
              "      <td>1</td>\n",
              "      <td>41925494.68</td>\n",
              "      <td>271.0</td>\n",
              "      <td>63301</td>\n",
              "      <td>662.32</td>\n",
              "      <td>100%</td>\n",
              "      <td>100%</td>\n",
              "      <td>662.32</td>\n",
              "      <td>100%</td>\n",
              "    </tr>\n",
              "  </tbody>\n",
              "</table>\n",
              "</div>"
            ],
            "text/plain": [
              "            CohortLabel  Users  Recency  Frequency   OrderValue  Maturity  \\\n",
              "0        Champion Users   2759      109          4  10013100.15     326.0   \n",
              "1         Churned Users  18870      574          1  13903478.22       NaN   \n",
              "2             New Users  17153      118          1   6805813.20       NaN   \n",
              "3  Recent & Loyal Users   2502      100          2   2581954.60      24.0   \n",
              "4  Repeat Churned Users   3543      531          2   8621148.51     158.0   \n",
              "5               Overall  44827      100          1  41925494.68     271.0   \n",
              "\n",
              "   OrderCount     AOV OrderValueMix UsersMix  AOV_Contribution OrderCountMix  \n",
              "0       11839  845.77           24%       6%            158.18           19%  \n",
              "1       18870  736.80           33%      42%            219.64           30%  \n",
              "2       17153  396.77           16%      38%            107.52           27%  \n",
              "3        5731  450.52            6%       6%             40.79            9%  \n",
              "4        9708  888.05           21%       8%            136.19           15%  \n",
              "5       63301  662.32          100%     100%            662.32          100%  "
            ]
          },
          "execution_count": 223,
          "metadata": {},
          "output_type": "execute_result"
        }
      ],
      "source": [
        "segstats"
      ]
    },
    {
      "cell_type": "code",
      "execution_count": 224,
      "metadata": {
        "colab": {
          "base_uri": "https://localhost:8080/",
          "height": 560
        },
        "id": "OHzbN86cSHEQ",
        "outputId": "cf8c6322-392f-4a18-c12e-1fb3d6c3ffe6"
      },
      "outputs": [
        {
          "data": {
            "image/png": "[encoded data removed]",
            "text/plain": [
              "<Figure size 1200x600 with 1 Axes>"
            ]
          },
          "metadata": {},
          "output_type": "display_data"
        }
      ],
      "source": [
        "segstats_graph = segstats.drop(segstats.index[-1])\n",
        "column_to_plot = 'OrderCount'\n",
        "x_labels = segstats_graph.index\n",
        "plt.figure(figsize=(12, 6))  # Adjust the figure size if needed\n",
        "plt.bar(segstats_graph['CohortLabel'], segstats_graph[column_to_plot])\n",
        "plt.xlabel('CohortLabel')\n",
        "plt.ylabel(column_to_plot)\n",
        "plt.title(f'{column_to_plot} across Customer Cohorts')\n",
        "plt.xticks(fontsize=8)\n",
        "plt.show()"
      ]
    },
    {
      "cell_type": "code",
      "execution_count": 138,
      "metadata": {
        "id": "za34GC8ysI7E"
      },
      "outputs": [],
      "source": [
        "# def CohortLables_1(df):\n",
        "#   if (df['New']==1 and df['AOV_score']>2):\n",
        "#     return 'New&High Value'\n",
        "#   elif (df['New']==1 and df['AOV_score']<=2):\n",
        "#     return 'New&Low Value'\n",
        "#   elif (df['New']<1 and df['AOV_score']<=2):\n",
        "#     return 'Returning&Low Value'\n",
        "#   else:\n",
        "#     return 'Returning&High Value'\n",
        "\n",
        "# def CohortLables_2(df):\n",
        "#   if ((df['SumScore'] >= 18) and (df['Frequency']>1)):\n",
        "#       return 'Champions'\n",
        "#   elif ((df['m_score'] <=1) and (df['SumScore'] >= 10)and (df['SumScore'] < 18) and (df['r_score'] >1)):\n",
        "#       return 'New&Potential'\n",
        "#   elif ((df['m_score'] >1) and (df['SumScore'] >= 14)and (df['SumScore'] < 18)and (df['r_score'] >1)):\n",
        "#       return 'Mature&Loyal'\n",
        "#   elif ((df['m_score'] >1) and (df['SumScore'] >= 10)and (df['SumScore'] < 14)and (df['r_score'] >1)):\n",
        "#       return 'Mature&Slow'\n",
        "#   elif ((df['m_score'] <=1) and (df['SumScore'] >= 5)and (df['SumScore'] < 10)and (df['r_score'] >1)):\n",
        "#       return 'New&Slow'\n",
        "#   elif ((df['m_score'] >1) and (df['SumScore'] >= 5)and (df['SumScore'] < 10)and (df['r_score'] >1)):\n",
        "#       return 'Mature&ChurnRisk'\n",
        "#   else:\n",
        "#       return 'Churned'\n",
        "# if (count_customer<500 or no_of_days.days < 180):\n",
        "#   x1['CohortLabel'] = x1.apply(CohortLables_1, axis=1)\n",
        "# else:\n",
        "#   x1['CohortLabel'] = x1.apply(CohortLables_2, axis=1)"
      ]
    },
    {
      "cell_type": "code",
      "execution_count": 139,
      "metadata": {
        "id": "FqGn3vjjSQDC"
      },
      "outputs": [],
      "source": [
        "# count_customer = e['user_id'].nunique()\n",
        "# maxDate = e.OrderDate.max()\n",
        "# minDate = e.OrderDate.min()\n",
        "# no_of_days = maxDate - minDate\n",
        "# no_of_days.days"
      ]
    }
  ],
  "metadata": {
    "colab": {
      "provenance": []
    },
    "kernelspec": {
      "display_name": "Python 3 (ipykernel)",
      "language": "python",
      "name": "python3"
    },
    "language_info": {
      "codemirror_mode": {
        "name": "ipython",
        "version": 3
      },
      "file_extension": ".py",
      "mimetype": "text/x-python",
      "name": "python",
      "nbconvert_exporter": "python",
      "pygments_lexer": "ipython3",
      "version": "3.12.0"
    }
  },
  "nbformat": 4,
  "nbformat_minor": 0
}
