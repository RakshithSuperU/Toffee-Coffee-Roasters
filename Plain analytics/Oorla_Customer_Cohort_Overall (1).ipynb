{
 "cells": [
  {
   "cell_type": "code",
   "execution_count": 1,
   "metadata": {
    "id": "EaRbh7G05Vn-"
   },
   "outputs": [],
   "source": [
    "import json\n",
    "import psycopg2\n",
    "import time\n",
    "import pandas as pd\n",
    "from datetime import datetime\n",
    "import numpy as np\n",
    "import math\n",
    "import pickle\n",
    "import os\n",
    "import pandas.io.sql as sqlio\n",
    "import matplotlib.pyplot as plt\n",
    "import seaborn as sns\n",
    "import warnings\n",
    "warnings.filterwarnings(\"ignore\")"
   ]
  },
  {
   "cell_type": "code",
   "execution_count": 2,
   "metadata": {
    "id": "ztuaYuY26Pwd"
   },
   "outputs": [],
   "source": [
    "conn = psycopg2.connect(\n",
    "    port = \"5432\",\n",
    "host = \"shopify-merchant-dump.ccm9mnr5avgs.ap-south-1.rds.amazonaws.com\",\n",
    "  user = \"toffee_coffee_roasters_69e3f806d0674953afe3d3fb2f724c7c\",\n",
    "  password = \"toffee_coffee_roasters_69e3f806d0674953afe3d3fb2f724c7c_password\",\n",
    "  database = \"toffee_coffee_roasters_69e3f806d0674953afe3d3fb2f724c7c_db\"\n",
    ")"
   ]
  },
  {
   "cell_type": "code",
   "execution_count": 3,
   "metadata": {
    "id": "XxCuUM7l6c29"
   },
   "outputs": [],
   "source": [
    "q='''SELECT created_at as created, id as order_iD, total_price as order_amount, customer_id as user_id from orders WHERE\n",
    "cancelled_at is NULL;\n",
    "'''\n",
    "e=pd.read_sql(q,conn)\n",
    "e = e[e['created'] >= '2023-01-01']"
   ]
  },
  {
   "cell_type": "code",
   "execution_count": 4,
   "metadata": {
    "id": "99zrq0czTBIN"
   },
   "outputs": [
    {
     "data": {
      "text/plain": [
       "6289"
      ]
     },
     "execution_count": 4,
     "metadata": {},
     "output_type": "execute_result"
    }
   ],
   "source": [
    "#e=e[e['created']<='2023/05/29']\n",
    "#e=e[e['created']>='2023/11/29']\n",
    "#e.info()\n",
    "e[\"user_id\"].nunique()"
   ]
  },
  {
   "cell_type": "code",
   "execution_count": 5,
   "metadata": {
    "id": "BZkQTAl-Cj3y"
   },
   "outputs": [],
   "source": [
    "e['WeekCount']=e['created'].dt.strftime('%Y-w%U')"
   ]
  },
  {
   "cell_type": "code",
   "execution_count": 6,
   "metadata": {
    "id": "7MwNlqp8Cp3J"
   },
   "outputs": [],
   "source": [
    "e=e.sort_values('created')\n",
    "WeekList=e['WeekCount'].unique()\n",
    "List=WeekList"
   ]
  },
  {
   "cell_type": "code",
   "execution_count": 7,
   "metadata": {
    "id": "FOVv-Q-i54Ay"
   },
   "outputs": [],
   "source": [
    "e[\"New\"] = 0\n",
    "e['TrxnRank'] = e.groupby('user_id')['created'].rank(method='first')\n",
    "e.loc[e['TrxnRank']==1,'New'] = 1"
   ]
  },
  {
   "cell_type": "code",
   "execution_count": 8,
   "metadata": {
    "id": "xCTDL6FvC5rB"
   },
   "outputs": [],
   "source": [
    "e['OrderDate']=e['created'].dt.date\n",
    "e['OrderDate']=pd.to_datetime(e['OrderDate'])\n",
    "e['DeltaDaysinOrders']=(e.groupby('user_id').OrderDate.shift() - e.OrderDate).dt.days.abs()\n",
    "e['DeltaOrderValues']=(e.groupby('user_id').order_amount.shift() - e.order_amount)"
   ]
  },
  {
   "cell_type": "code",
   "execution_count": 9,
   "metadata": {
    "id": "U0jRPM2slDAW"
   },
   "outputs": [],
   "source": [
    "# e['OrderDate']=e['created'].dt.date\n",
    "# e['OrderDate']=pd.to_datetime(k['OrderDate'])\n",
    "\n",
    "x1=e.groupby('user_id').agg(\n",
    "          LastDate=pd.NamedAgg(column='OrderDate', aggfunc= lambda x: x.nlargest(1).min()),\n",
    "          FirstDate=pd.NamedAgg(column='OrderDate', aggfunc='min'),\n",
    "          Frequency=pd.NamedAgg(column='order_id', aggfunc='nunique'),\n",
    "          AOV=pd.NamedAgg(column='order_amount', aggfunc='mean'),\n",
    "          OrderValue=pd.NamedAgg(column='order_amount', aggfunc='sum'),\n",
    "          MeanDaysDelta=pd.NamedAgg(column='DeltaDaysinOrders', aggfunc='mean'),\n",
    "          MeanOVDelta=pd.NamedAgg(column='DeltaOrderValues', aggfunc='mean'),\n",
    "          New=pd.NamedAgg(column='New',aggfunc='mean')\n",
    "      ).reset_index()\n",
    "globalmaxdate=e['OrderDate'].max()\n",
    "x1['Recency']=globalmaxdate-x1['LastDate']\n",
    "x1['Recency']=x1['Recency'].dt.days.abs()\n",
    "x1['ActivatedQuater']=x1['FirstDate'].dt.to_period('Q')\n",
    "x1['MaturityAge']=np.nan\n",
    "x1.loc[x1['Frequency']>1,\"MaturityAge\"]=(x1['LastDate']-x1['FirstDate']).dt.days.abs()\n",
    "x1['MeanDaysDelta']=x1['MeanDaysDelta'].fillna(0)\n",
    "x1['MeanOVDelta']=x1['MeanOVDelta'].fillna(0)\n",
    "\n",
    "r_labels, f_labels,AOV_labels, m_labels,DelAOV_labels = range(4, 0, -1), range(1,5), range(1,5),range(1,5),range(1,5)\n",
    "x1['r_score'] = x1['Recency'].transform(lambda x: pd.qcut(x.rank(method='first'), q = [0, 0.25, 0.5, 0.75, 1], labels = r_labels)).astype('int64')\n",
    "x1['f2d_score'] = x1['Frequency'].transform(lambda x: pd.qcut(x.rank(method='first'), q = [0, 0.25, 0.5, 0.75, 1], labels = f_labels)).astype('int64')\n",
    "x1['AOV_score'] = x1['AOV'].transform(lambda x: pd.qcut(x.rank(method='first'), q = [0, 0.25, 0.5, 0.75, 1], labels = AOV_labels)).astype('int64')\n",
    "x1['m_score']=0\n",
    "x1.loc[x1['MaturityAge'].notnull(),'m_score']= x1.loc[x1['MaturityAge'].notnull()]['MaturityAge'].transform(lambda x: pd.qcut(x.rank(method='first'), q = [0, 0.25, 0.5, 0.75, 1], labels = m_labels)).astype('int64')\n",
    "x1['DelAOV'] = x1['MeanOVDelta'].transform(lambda x: pd.qcut(x.rank(method='first'), q = [0, 0.25, 0.5, 0.75, 1], labels = DelAOV_labels)).astype('int64')\n",
    "x1['SumScore'] = x1['r_score'] + x1['f2d_score'] + x1['m_score'] + x1['AOV_score']+ x1['DelAOV']\n",
    "\n",
    "# def CohortLables_1(df):\n",
    "#   if (df['New']==1 and df['AOV_score']>2):\n",
    "#     return 'New&High Value'\n",
    "#   elif (df['New']==1 and df['AOV_score']<=2):\n",
    "#     return 'New&Low Value'\n",
    "#   elif (df['New']<1 and df['AOV_score']<=2):\n",
    "#     return 'Returning&Low Value'\n",
    "#   else:\n",
    "#     return 'Returning&High Value'\n",
    "\n",
    "# def CohortLables_2(df):\n",
    "#   if ((df['SumScore'] >= 18) and (df['Frequency']>1)):\n",
    "#       return 'Champions'\n",
    "#   elif ((df['m_score'] <=1) and (df['SumScore'] >= 10)and (df['SumScore'] < 18) and (df['r_score'] >1)):\n",
    "#       return 'New&Potential'\n",
    "#   elif ((df['m_score'] >1) and (df['SumScore'] >= 14)and (df['SumScore'] < 18)and (df['r_score'] >1)):\n",
    "#       return 'Mature&Loyal'\n",
    "#   elif ((df['m_score'] >1) and (df['SumScore'] >= 10)and (df['SumScore'] < 14)and (df['r_score'] >1)):\n",
    "#       return 'Mature&Slow'\n",
    "#   elif ((df['m_score'] <=1) and (df['SumScore'] >= 5)and (df['SumScore'] < 10)and (df['r_score'] >1)):\n",
    "#       return 'New&Slow'\n",
    "#   elif ((df['m_score'] >1) and (df['SumScore'] >= 5)and (df['SumScore'] < 10)and (df['r_score'] >1)):\n",
    "#       return 'Mature&ChurnRisk'\n",
    "#   else:\n",
    "#       return 'Churned'\n",
    "\n",
    "def CohortLables_3(df):\n",
    "    if ((df['Frequency']==1) & (df['r_score']>2)):\n",
    "        return \"New\"\n",
    "    elif ((df['Frequency'] == 1) & (df['r_score'] <= 2)):\n",
    "        return 'Churned (Single Use Only)'\n",
    "    elif ((df['Frequency'] > 1) & (df['m_score'] < 3) & (df['r_score'] >2)):\n",
    "        return 'Recent & Loyals'\n",
    "    elif ((df['Frequency'] > 1) & (df['m_score'] >=3) & (df['r_score'] > 2)):\n",
    "        return 'Champions'\n",
    "    else:\n",
    "        return 'Churned (Repeat Use)'"
   ]
  },
  {
   "cell_type": "code",
   "execution_count": 10,
   "metadata": {},
   "outputs": [
    {
     "data": {
      "text/plain": [
       "6289"
      ]
     },
     "execution_count": 10,
     "metadata": {},
     "output_type": "execute_result"
    }
   ],
   "source": [
    "x1[\"user_id\"].nunique()"
   ]
  },
  {
   "cell_type": "code",
   "execution_count": 11,
   "metadata": {
    "id": "3j7aQ6GsSiOB"
   },
   "outputs": [],
   "source": [
    "count_customer = e['user_id'].nunique()\n",
    "maxDate = e.OrderDate.max()\n",
    "minDate = e.OrderDate.min()\n",
    "no_of_days = maxDate - minDate\n",
    "no_of_days.days\n",
    "x1['CohortLabel'] = x1.apply(CohortLables_3, axis=1)\n",
    "# if (count_customer<500 or no_of_days.days < 180):\n",
    "#   x1['CohortLabel'] = x1.apply(CohortLables_1, axis=1)\n",
    "# else:\n",
    "#   x1['CohortLabel'] = x1.apply(CohortLables_2, axis=1)"
   ]
  },
  {
   "cell_type": "code",
   "execution_count": 12,
   "metadata": {
    "id": "wHp-PTs_TCEE"
   },
   "outputs": [],
   "source": [
    "segstats=x1.groupby(\n",
    "  'CohortLabel'\n",
    ").agg(\n",
    "      Users=pd.NamedAgg(column='user_id', aggfunc='nunique'),\n",
    "      Recency=pd.NamedAgg(column='Recency', aggfunc='mean'),\n",
    "      Frequency=pd.NamedAgg(column='Frequency', aggfunc='mean'),\n",
    "      AOV=pd.NamedAgg(column='AOV', aggfunc='mean'),\n",
    "      OrderValue=pd.NamedAgg(column='OrderValue', aggfunc='sum'),\n",
    "      #MeanDaysDelta=pd.NamedAgg(column='MeanDaysDelta', aggfunc='mean'),\n",
    "      #MeanOVDelta=pd.NamedAgg(column='MeanOVDelta', aggfunc='mean'),\n",
    "      #FrequencyperDeltaDays=pd.NamedAgg(column='FrequencyperDeltaDays', aggfunc='mean'),\n",
    "    Maturity=pd.NamedAgg(column='MaturityAge', aggfunc='mean'),\n",
    "    OrderCount=pd.NamedAgg(column='Frequency', aggfunc='sum'),\n",
    ").reset_index()\n",
    "segstats['OrderValueMix']=segstats['OrderValue']/segstats['OrderValue'].sum()\n",
    "segstats['UsersMix']=segstats['Users']/segstats['Users'].sum()\n",
    "segstats['AOV_Contribution']=segstats['OrderValue']/segstats['OrderCount'].sum()\n",
    "segstats['OrderCountMix']=segstats['OrderCount']/segstats['OrderCount'].sum()"
   ]
  },
  {
   "cell_type": "code",
   "execution_count": 13,
   "metadata": {
    "colab": {
     "base_uri": "https://localhost:8080/",
     "height": 206
    },
    "id": "nmlnnhf5MHDq",
    "outputId": "b1c09ab0-88be-4af5-c5af-876d75b5b38c"
   },
   "outputs": [
    {
     "data": {
      "text/html": [
       "<div>\n",
       "<style scoped>\n",
       "    .dataframe tbody tr th:only-of-type {\n",
       "        vertical-align: middle;\n",
       "    }\n",
       "\n",
       "    .dataframe tbody tr th {\n",
       "        vertical-align: top;\n",
       "    }\n",
       "\n",
       "    .dataframe thead th {\n",
       "        text-align: right;\n",
       "    }\n",
       "</style>\n",
       "<table border=\"1\" class=\"dataframe\">\n",
       "  <thead>\n",
       "    <tr style=\"text-align: right;\">\n",
       "      <th></th>\n",
       "      <th>CohortLabel</th>\n",
       "      <th>Users</th>\n",
       "      <th>Recency</th>\n",
       "      <th>Frequency</th>\n",
       "      <th>AOV</th>\n",
       "      <th>OrderValue</th>\n",
       "      <th>Maturity</th>\n",
       "      <th>OrderCount</th>\n",
       "      <th>OrderValueMix</th>\n",
       "      <th>UsersMix</th>\n",
       "      <th>AOV_Contribution</th>\n",
       "      <th>OrderCountMix</th>\n",
       "    </tr>\n",
       "  </thead>\n",
       "  <tbody>\n",
       "    <tr>\n",
       "      <th>0</th>\n",
       "      <td>Champions</td>\n",
       "      <td>269</td>\n",
       "      <td>33.033457</td>\n",
       "      <td>3.026022</td>\n",
       "      <td>83.446502</td>\n",
       "      <td>76506.76</td>\n",
       "      <td>152.334572</td>\n",
       "      <td>814</td>\n",
       "      <td>0.123774</td>\n",
       "      <td>0.042773</td>\n",
       "      <td>9.576513</td>\n",
       "      <td>0.101890</td>\n",
       "    </tr>\n",
       "    <tr>\n",
       "      <th>1</th>\n",
       "      <td>Churned (Repeat Use)</td>\n",
       "      <td>463</td>\n",
       "      <td>156.138229</td>\n",
       "      <td>2.514039</td>\n",
       "      <td>75.703433</td>\n",
       "      <td>86873.36</td>\n",
       "      <td>77.688985</td>\n",
       "      <td>1164</td>\n",
       "      <td>0.140545</td>\n",
       "      <td>0.073621</td>\n",
       "      <td>10.874122</td>\n",
       "      <td>0.145700</td>\n",
       "    </tr>\n",
       "    <tr>\n",
       "      <th>2</th>\n",
       "      <td>Churned (Single Use Only)</td>\n",
       "      <td>2681</td>\n",
       "      <td>185.351734</td>\n",
       "      <td>1.000000</td>\n",
       "      <td>76.209101</td>\n",
       "      <td>204316.60</td>\n",
       "      <td>NaN</td>\n",
       "      <td>2681</td>\n",
       "      <td>0.330546</td>\n",
       "      <td>0.426300</td>\n",
       "      <td>25.574740</td>\n",
       "      <td>0.335586</td>\n",
       "    </tr>\n",
       "    <tr>\n",
       "      <th>3</th>\n",
       "      <td>New</td>\n",
       "      <td>2539</td>\n",
       "      <td>39.278850</td>\n",
       "      <td>1.000000</td>\n",
       "      <td>77.456495</td>\n",
       "      <td>196662.04</td>\n",
       "      <td>NaN</td>\n",
       "      <td>2539</td>\n",
       "      <td>0.318162</td>\n",
       "      <td>0.403721</td>\n",
       "      <td>24.616603</td>\n",
       "      <td>0.317812</td>\n",
       "    </tr>\n",
       "    <tr>\n",
       "      <th>4</th>\n",
       "      <td>Recent &amp; Loyals</td>\n",
       "      <td>337</td>\n",
       "      <td>35.818991</td>\n",
       "      <td>2.347181</td>\n",
       "      <td>68.745020</td>\n",
       "      <td>53760.28</td>\n",
       "      <td>7.821958</td>\n",
       "      <td>791</td>\n",
       "      <td>0.086974</td>\n",
       "      <td>0.053586</td>\n",
       "      <td>6.729288</td>\n",
       "      <td>0.099011</td>\n",
       "    </tr>\n",
       "  </tbody>\n",
       "</table>\n",
       "</div>"
      ],
      "text/plain": [
       "                 CohortLabel  Users     Recency  Frequency        AOV  \\\n",
       "0                  Champions    269   33.033457   3.026022  83.446502   \n",
       "1       Churned (Repeat Use)    463  156.138229   2.514039  75.703433   \n",
       "2  Churned (Single Use Only)   2681  185.351734   1.000000  76.209101   \n",
       "3                        New   2539   39.278850   1.000000  77.456495   \n",
       "4            Recent & Loyals    337   35.818991   2.347181  68.745020   \n",
       "\n",
       "   OrderValue    Maturity  OrderCount  OrderValueMix  UsersMix  \\\n",
       "0    76506.76  152.334572         814       0.123774  0.042773   \n",
       "1    86873.36   77.688985        1164       0.140545  0.073621   \n",
       "2   204316.60         NaN        2681       0.330546  0.426300   \n",
       "3   196662.04         NaN        2539       0.318162  0.403721   \n",
       "4    53760.28    7.821958         791       0.086974  0.053586   \n",
       "\n",
       "   AOV_Contribution  OrderCountMix  \n",
       "0          9.576513       0.101890  \n",
       "1         10.874122       0.145700  \n",
       "2         25.574740       0.335586  \n",
       "3         24.616603       0.317812  \n",
       "4          6.729288       0.099011  "
      ]
     },
     "execution_count": 13,
     "metadata": {},
     "output_type": "execute_result"
    }
   ],
   "source": [
    "segstats"
   ]
  },
  {
   "cell_type": "code",
   "execution_count": 14,
   "metadata": {
    "colab": {
     "base_uri": "https://localhost:8080/",
     "height": 237
    },
    "id": "0WWLm51HnLxu",
    "outputId": "639fff46-c599-4040-ae0c-a42a658580c9"
   },
   "outputs": [
    {
     "data": {
      "text/html": [
       "<div>\n",
       "<style scoped>\n",
       "    .dataframe tbody tr th:only-of-type {\n",
       "        vertical-align: middle;\n",
       "    }\n",
       "\n",
       "    .dataframe tbody tr th {\n",
       "        vertical-align: top;\n",
       "    }\n",
       "\n",
       "    .dataframe thead th {\n",
       "        text-align: right;\n",
       "    }\n",
       "</style>\n",
       "<table border=\"1\" class=\"dataframe\">\n",
       "  <thead>\n",
       "    <tr style=\"text-align: right;\">\n",
       "      <th></th>\n",
       "      <th>CohortLabel</th>\n",
       "      <th>Users</th>\n",
       "      <th>Recency</th>\n",
       "      <th>Frequency</th>\n",
       "      <th>AOV</th>\n",
       "      <th>OrderValue</th>\n",
       "      <th>Maturity</th>\n",
       "      <th>OrderCount</th>\n",
       "      <th>OrderValueMix</th>\n",
       "      <th>UsersMix</th>\n",
       "      <th>AOV_Contribution</th>\n",
       "      <th>OrderCountMix</th>\n",
       "    </tr>\n",
       "  </thead>\n",
       "  <tbody>\n",
       "    <tr>\n",
       "      <th>0</th>\n",
       "      <td>Champions</td>\n",
       "      <td>269.0</td>\n",
       "      <td>33.033457</td>\n",
       "      <td>3.026022</td>\n",
       "      <td>83.446502</td>\n",
       "      <td>76506.76</td>\n",
       "      <td>152.334572</td>\n",
       "      <td>814.0</td>\n",
       "      <td>0.123774</td>\n",
       "      <td>0.042773</td>\n",
       "      <td>9.576513</td>\n",
       "      <td>0.101890</td>\n",
       "    </tr>\n",
       "    <tr>\n",
       "      <th>1</th>\n",
       "      <td>Churned (Repeat Use)</td>\n",
       "      <td>463.0</td>\n",
       "      <td>156.138229</td>\n",
       "      <td>2.514039</td>\n",
       "      <td>75.703433</td>\n",
       "      <td>86873.36</td>\n",
       "      <td>77.688985</td>\n",
       "      <td>1164.0</td>\n",
       "      <td>0.140545</td>\n",
       "      <td>0.073621</td>\n",
       "      <td>10.874122</td>\n",
       "      <td>0.145700</td>\n",
       "    </tr>\n",
       "    <tr>\n",
       "      <th>2</th>\n",
       "      <td>Churned (Single Use Only)</td>\n",
       "      <td>2681.0</td>\n",
       "      <td>185.351734</td>\n",
       "      <td>1.000000</td>\n",
       "      <td>76.209101</td>\n",
       "      <td>204316.60</td>\n",
       "      <td>NaN</td>\n",
       "      <td>2681.0</td>\n",
       "      <td>0.330546</td>\n",
       "      <td>0.426300</td>\n",
       "      <td>25.574740</td>\n",
       "      <td>0.335586</td>\n",
       "    </tr>\n",
       "    <tr>\n",
       "      <th>3</th>\n",
       "      <td>New</td>\n",
       "      <td>2539.0</td>\n",
       "      <td>39.278850</td>\n",
       "      <td>1.000000</td>\n",
       "      <td>77.456495</td>\n",
       "      <td>196662.04</td>\n",
       "      <td>NaN</td>\n",
       "      <td>2539.0</td>\n",
       "      <td>0.318162</td>\n",
       "      <td>0.403721</td>\n",
       "      <td>24.616603</td>\n",
       "      <td>0.317812</td>\n",
       "    </tr>\n",
       "    <tr>\n",
       "      <th>4</th>\n",
       "      <td>Recent &amp; Loyals</td>\n",
       "      <td>337.0</td>\n",
       "      <td>35.818991</td>\n",
       "      <td>2.347181</td>\n",
       "      <td>68.745020</td>\n",
       "      <td>53760.28</td>\n",
       "      <td>7.821958</td>\n",
       "      <td>791.0</td>\n",
       "      <td>0.086974</td>\n",
       "      <td>0.053586</td>\n",
       "      <td>6.729288</td>\n",
       "      <td>0.099011</td>\n",
       "    </tr>\n",
       "    <tr>\n",
       "      <th>5</th>\n",
       "      <td>Overall</td>\n",
       "      <td>6289.0</td>\n",
       "      <td>449.621262</td>\n",
       "      <td>9.887242</td>\n",
       "      <td>381.560551</td>\n",
       "      <td>618119.04</td>\n",
       "      <td>237.845516</td>\n",
       "      <td>7989.0</td>\n",
       "      <td>1.000000</td>\n",
       "      <td>1.000000</td>\n",
       "      <td>77.371265</td>\n",
       "      <td>1.000000</td>\n",
       "    </tr>\n",
       "  </tbody>\n",
       "</table>\n",
       "</div>"
      ],
      "text/plain": [
       "                 CohortLabel   Users     Recency  Frequency         AOV  \\\n",
       "0                  Champions   269.0   33.033457   3.026022   83.446502   \n",
       "1       Churned (Repeat Use)   463.0  156.138229   2.514039   75.703433   \n",
       "2  Churned (Single Use Only)  2681.0  185.351734   1.000000   76.209101   \n",
       "3                        New  2539.0   39.278850   1.000000   77.456495   \n",
       "4            Recent & Loyals   337.0   35.818991   2.347181   68.745020   \n",
       "5                    Overall  6289.0  449.621262   9.887242  381.560551   \n",
       "\n",
       "   OrderValue    Maturity  OrderCount  OrderValueMix  UsersMix  \\\n",
       "0    76506.76  152.334572       814.0       0.123774  0.042773   \n",
       "1    86873.36   77.688985      1164.0       0.140545  0.073621   \n",
       "2   204316.60         NaN      2681.0       0.330546  0.426300   \n",
       "3   196662.04         NaN      2539.0       0.318162  0.403721   \n",
       "4    53760.28    7.821958       791.0       0.086974  0.053586   \n",
       "5   618119.04  237.845516      7989.0       1.000000  1.000000   \n",
       "\n",
       "   AOV_Contribution  OrderCountMix  \n",
       "0          9.576513       0.101890  \n",
       "1         10.874122       0.145700  \n",
       "2         25.574740       0.335586  \n",
       "3         24.616603       0.317812  \n",
       "4          6.729288       0.099011  \n",
       "5         77.371265       1.000000  "
      ]
     },
     "execution_count": 14,
     "metadata": {},
     "output_type": "execute_result"
    }
   ],
   "source": [
    "sum_row = segstats.sum(numeric_only=True)\n",
    "segstats = pd.concat([segstats, sum_row.to_frame().T], ignore_index=True)\n",
    "segstats.at[segstats.index[-1], 'CohortLabel'] = 'Overall'\n",
    "segstats\n"
   ]
  },
  {
   "cell_type": "code",
   "execution_count": 15,
   "metadata": {
    "id": "7RP3CmDVo54e"
   },
   "outputs": [],
   "source": [
    "def weighted_average_column(df, column_name, weights_column):\n",
    "    data = df[column_name]\n",
    "    weights = df[weights_column]\n",
    "\n",
    "    if weights.sum() == 0:\n",
    "        raise ValueError(\"Total weight must be greater than 0.\")\n",
    "\n",
    "    return (data * weights).sum() / weights.sum()\n",
    "\n",
    "h = weighted_average_column(segstats, 'Maturity', 'Users')\n",
    "g = weighted_average_column(segstats, 'Frequency', 'Users')"
   ]
  },
  {
   "cell_type": "code",
   "execution_count": 16,
   "metadata": {
    "colab": {
     "base_uri": "https://localhost:8080/",
     "height": 237
    },
    "id": "y9AdFUsNlyLn",
    "outputId": "56cc4c12-6274-444b-aad9-800900c2f62f"
   },
   "outputs": [
    {
     "data": {
      "text/html": [
       "<div>\n",
       "<style scoped>\n",
       "    .dataframe tbody tr th:only-of-type {\n",
       "        vertical-align: middle;\n",
       "    }\n",
       "\n",
       "    .dataframe tbody tr th {\n",
       "        vertical-align: top;\n",
       "    }\n",
       "\n",
       "    .dataframe thead th {\n",
       "        text-align: right;\n",
       "    }\n",
       "</style>\n",
       "<table border=\"1\" class=\"dataframe\">\n",
       "  <thead>\n",
       "    <tr style=\"text-align: right;\">\n",
       "      <th></th>\n",
       "      <th>CohortLabel</th>\n",
       "      <th>Users</th>\n",
       "      <th>Recency</th>\n",
       "      <th>Frequency</th>\n",
       "      <th>AOV</th>\n",
       "      <th>OrderValue</th>\n",
       "      <th>Maturity</th>\n",
       "      <th>OrderCount</th>\n",
       "      <th>OrderValueMix</th>\n",
       "      <th>UsersMix</th>\n",
       "      <th>AOV_Contribution</th>\n",
       "      <th>OrderCountMix</th>\n",
       "    </tr>\n",
       "  </thead>\n",
       "  <tbody>\n",
       "    <tr>\n",
       "      <th>0</th>\n",
       "      <td>Champions</td>\n",
       "      <td>269.0</td>\n",
       "      <td>33.033457</td>\n",
       "      <td>3.026022</td>\n",
       "      <td>83.446502</td>\n",
       "      <td>76506.76</td>\n",
       "      <td>152.334572</td>\n",
       "      <td>814.0</td>\n",
       "      <td>0.123774</td>\n",
       "      <td>0.042773</td>\n",
       "      <td>9.576513</td>\n",
       "      <td>0.101890</td>\n",
       "    </tr>\n",
       "    <tr>\n",
       "      <th>1</th>\n",
       "      <td>Churned (Repeat Use)</td>\n",
       "      <td>463.0</td>\n",
       "      <td>156.138229</td>\n",
       "      <td>2.514039</td>\n",
       "      <td>75.703433</td>\n",
       "      <td>86873.36</td>\n",
       "      <td>77.688985</td>\n",
       "      <td>1164.0</td>\n",
       "      <td>0.140545</td>\n",
       "      <td>0.073621</td>\n",
       "      <td>10.874122</td>\n",
       "      <td>0.145700</td>\n",
       "    </tr>\n",
       "    <tr>\n",
       "      <th>2</th>\n",
       "      <td>Churned (Single Use Only)</td>\n",
       "      <td>2681.0</td>\n",
       "      <td>185.351734</td>\n",
       "      <td>1.000000</td>\n",
       "      <td>76.209101</td>\n",
       "      <td>204316.60</td>\n",
       "      <td>NaN</td>\n",
       "      <td>2681.0</td>\n",
       "      <td>0.330546</td>\n",
       "      <td>0.426300</td>\n",
       "      <td>25.574740</td>\n",
       "      <td>0.335586</td>\n",
       "    </tr>\n",
       "    <tr>\n",
       "      <th>3</th>\n",
       "      <td>New</td>\n",
       "      <td>2539.0</td>\n",
       "      <td>39.278850</td>\n",
       "      <td>1.000000</td>\n",
       "      <td>77.456495</td>\n",
       "      <td>196662.04</td>\n",
       "      <td>NaN</td>\n",
       "      <td>2539.0</td>\n",
       "      <td>0.318162</td>\n",
       "      <td>0.403721</td>\n",
       "      <td>24.616603</td>\n",
       "      <td>0.317812</td>\n",
       "    </tr>\n",
       "    <tr>\n",
       "      <th>4</th>\n",
       "      <td>Recent &amp; Loyals</td>\n",
       "      <td>337.0</td>\n",
       "      <td>35.818991</td>\n",
       "      <td>2.347181</td>\n",
       "      <td>68.745020</td>\n",
       "      <td>53760.28</td>\n",
       "      <td>7.821958</td>\n",
       "      <td>791.0</td>\n",
       "      <td>0.086974</td>\n",
       "      <td>0.053586</td>\n",
       "      <td>6.729288</td>\n",
       "      <td>0.099011</td>\n",
       "    </tr>\n",
       "    <tr>\n",
       "      <th>5</th>\n",
       "      <td>Overall</td>\n",
       "      <td>6289.0</td>\n",
       "      <td>33.033457</td>\n",
       "      <td>5.578778</td>\n",
       "      <td>77.371265</td>\n",
       "      <td>618119.04</td>\n",
       "      <td>125.249996</td>\n",
       "      <td>7989.0</td>\n",
       "      <td>1.000000</td>\n",
       "      <td>1.000000</td>\n",
       "      <td>77.371265</td>\n",
       "      <td>1.000000</td>\n",
       "    </tr>\n",
       "  </tbody>\n",
       "</table>\n",
       "</div>"
      ],
      "text/plain": [
       "                 CohortLabel   Users     Recency  Frequency        AOV  \\\n",
       "0                  Champions   269.0   33.033457   3.026022  83.446502   \n",
       "1       Churned (Repeat Use)   463.0  156.138229   2.514039  75.703433   \n",
       "2  Churned (Single Use Only)  2681.0  185.351734   1.000000  76.209101   \n",
       "3                        New  2539.0   39.278850   1.000000  77.456495   \n",
       "4            Recent & Loyals   337.0   35.818991   2.347181  68.745020   \n",
       "5                    Overall  6289.0   33.033457   5.578778  77.371265   \n",
       "\n",
       "   OrderValue    Maturity  OrderCount  OrderValueMix  UsersMix  \\\n",
       "0    76506.76  152.334572       814.0       0.123774  0.042773   \n",
       "1    86873.36   77.688985      1164.0       0.140545  0.073621   \n",
       "2   204316.60         NaN      2681.0       0.330546  0.426300   \n",
       "3   196662.04         NaN      2539.0       0.318162  0.403721   \n",
       "4    53760.28    7.821958       791.0       0.086974  0.053586   \n",
       "5   618119.04  125.249996      7989.0       1.000000  1.000000   \n",
       "\n",
       "   AOV_Contribution  OrderCountMix  \n",
       "0          9.576513       0.101890  \n",
       "1         10.874122       0.145700  \n",
       "2         25.574740       0.335586  \n",
       "3         24.616603       0.317812  \n",
       "4          6.729288       0.099011  \n",
       "5         77.371265       1.000000  "
      ]
     },
     "execution_count": 16,
     "metadata": {},
     "output_type": "execute_result"
    }
   ],
   "source": [
    "segstats.loc[segstats['CohortLabel'] == 'Overall', 'Recency'] = segstats['Recency'].min()\n",
    "segstats.loc[segstats['CohortLabel'] == 'Overall', 'Frequency'] = g\n",
    "segstats.loc[segstats['CohortLabel'] == 'Overall', 'AOV'] = segstats['OrderValue'].sum()/segstats['OrderCount'].sum()\n",
    "segstats.loc[segstats['CohortLabel'] == 'Overall', 'Maturity'] = h\n",
    "segstats"
   ]
  },
  {
   "cell_type": "code",
   "execution_count": 17,
   "metadata": {
    "id": "wDoy4E3soaQE"
   },
   "outputs": [],
   "source": [
    "segstats.to_csv(\"Paakhi_Dsummaytf.csv\")"
   ]
  },
  {
   "cell_type": "code",
   "execution_count": 18,
   "metadata": {
    "colab": {
     "base_uri": "https://localhost:8080/",
     "height": 560
    },
    "id": "OHzbN86cSHEQ",
    "outputId": "4734288f-b1e5-45f0-806f-468f0151009f"
   },
   "outputs": [
    {
     "data": {
      "image/png": "[encoded data removed]",
      "text/plain": [
       "<Figure size 1200x600 with 1 Axes>"
      ]
     },
     "metadata": {},
     "output_type": "display_data"
    }
   ],
   "source": [
    "column_to_plot = 'OrderCount'\n",
    "x_labels = segstats['CohortLabel']\n",
    "plt.figure(figsize=(12, 6))  # Adjust the figure size if needed\n",
    "plt.bar(x_labels, segstats[column_to_plot])\n",
    "plt.xlabel('CohortLabel')\n",
    "plt.ylabel(column_to_plot)\n",
    "plt.title(f'{column_to_plot} across Customer Cohorts')\n",
    "plt.xticks(fontsize=8)\n",
    "plt.show()"
   ]
  },
  {
   "cell_type": "code",
   "execution_count": null,
   "metadata": {
    "id": "26iCSBEG58Mg"
   },
   "outputs": [],
   "source": []
  },
  {
   "cell_type": "code",
   "execution_count": null,
   "metadata": {
    "id": "SaeFUE-H58Mg"
   },
   "outputs": [],
   "source": []
  },
  {
   "cell_type": "code",
   "execution_count": null,
   "metadata": {
    "id": "LWZJXS7P58Mg"
   },
   "outputs": [],
   "source": []
  },
  {
   "cell_type": "code",
   "execution_count": null,
   "metadata": {
    "id": "yDvg2cvJ58Mg"
   },
   "outputs": [],
   "source": []
  }
 ],
 "metadata": {
  "colab": {
   "provenance": []
  },
  "kernelspec": {
   "display_name": "Python 3 (ipykernel)",
   "language": "python",
   "name": "python3"
  },
  "language_info": {
   "codemirror_mode": {
    "name": "ipython",
    "version": 3
   },
   "file_extension": ".py",
   "mimetype": "text/x-python",
   "name": "python",
   "nbconvert_exporter": "python",
   "pygments_lexer": "ipython3",
   "version": "3.12.0"
  }
 },
 "nbformat": 4,
 "nbformat_minor": 4
}
