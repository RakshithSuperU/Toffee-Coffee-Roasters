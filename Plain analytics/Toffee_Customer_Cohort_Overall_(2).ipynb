{
  "cells": [
    {
      "cell_type": "code",
      "execution_count": 1,
      "metadata": {
        "id": "EaRbh7G05Vn-"
      },
      "outputs": [],
      "source": [
        "import json\n",
        "import psycopg2\n",
        "import time\n",
        "import pandas as pd\n",
        "from datetime import datetime\n",
        "import numpy as np\n",
        "import math\n",
        "import pickle\n",
        "import os\n",
        "import pandas.io.sql as sqlio\n",
        "import matplotlib.pyplot as plt\n",
        "import seaborn as sns\n",
        "import warnings\n",
        "warnings.filterwarnings(\"ignore\")"
      ]
    },
    {
      "cell_type": "code",
      "execution_count": 2,
      "metadata": {
        "id": "ztuaYuY26Pwd"
      },
      "outputs": [],
      "source": [
        "conn = psycopg2.connect(\n",
        "    port = \"5432\",\n",
        "host = \"shopify-merchant-dump.ccm9mnr5avgs.ap-south-1.rds.amazonaws.com\",\n",
        "  user = \"toffee_coffee_roasters_69e3f806d0674953afe3d3fb2f724c7c\",\n",
        "  password = \"toffee_coffee_roasters_69e3f806d0674953afe3d3fb2f724c7c_password\",\n",
        "  database = \"toffee_coffee_roasters_69e3f806d0674953afe3d3fb2f724c7c_db\"\n",
        ")"
      ]
    },
    {
      "cell_type": "code",
      "execution_count": 3,
      "metadata": {
        "id": "XxCuUM7l6c29"
      },
      "outputs": [],
      "source": [
        "q='''SELECT created_at as created, id as order_iD, total_price as order_amount, email as user_id from orders WHERE\n",
        "cancelled_at is NULL;\n",
        "'''\n",
        "e=pd.read_sql(q,conn)"
      ]
    },
    {
      "cell_type": "code",
      "execution_count": 4,
      "metadata": {
        "id": "99zrq0czTBIN"
      },
      "outputs": [],
      "source": [
        "#e=e[e['created']<='2023/12/31']\n",
        "#e=e[e['created']>='2023/11/29']"
      ]
    },
    {
      "cell_type": "code",
      "execution_count": 5,
      "metadata": {
        "id": "BZkQTAl-Cj3y"
      },
      "outputs": [],
      "source": [
        "e['WeekCount']=e['created'].dt.strftime('%Y-w%U')"
      ]
    },
    {
      "cell_type": "code",
      "execution_count": 6,
      "metadata": {
        "id": "7MwNlqp8Cp3J"
      },
      "outputs": [],
      "source": [
        "e=e.sort_values('created')\n",
        "WeekList=e['WeekCount'].unique()"
      ]
    },
    {
      "cell_type": "code",
      "execution_count": 7,
      "metadata": {
        "colab": {
          "base_uri": "https://localhost:8080/"
        },
        "id": "IS0cthMUot3G",
        "outputId": "9a638614-cd08-4091-c028-6f95227fc323"
      },
      "outputs": [
        {
          "output_type": "execute_result",
          "data": {
            "text/plain": [
              "44492"
            ]
          },
          "metadata": {},
          "execution_count": 7
        }
      ],
      "source": [
        "e[\"user_id\"].nunique()"
      ]
    },
    {
      "cell_type": "code",
      "execution_count": 8,
      "metadata": {
        "id": "FOVv-Q-i54Ay"
      },
      "outputs": [],
      "source": [
        "#change\n",
        "e[\"New\"] = 0\n",
        "e['TrxnRank'] = e.groupby('user_id')['created'].rank(method='first')\n",
        "e.loc[e['TrxnRank']==1,'New'] = 1"
      ]
    },
    {
      "cell_type": "code",
      "execution_count": 9,
      "metadata": {
        "id": "xCTDL6FvC5rB"
      },
      "outputs": [],
      "source": [
        "e['OrderDate']=e['created'].dt.date\n",
        "e['OrderDate']=pd.to_datetime(e['OrderDate'])\n",
        "e['DeltaDaysinOrders']=(e.groupby('user_id').OrderDate.shift() - e.OrderDate).dt.days.abs()\n",
        "e['DeltaOrderValues']=(e.groupby('user_id').order_amount.shift() - e.order_amount)"
      ]
    },
    {
      "cell_type": "code",
      "execution_count": 10,
      "metadata": {
        "id": "U0jRPM2slDAW"
      },
      "outputs": [],
      "source": [
        "\n",
        "x1=e.groupby('user_id').agg(\n",
        "          LastDate=pd.NamedAgg(column='OrderDate', aggfunc= lambda x: x.nlargest(1).min()),\n",
        "          FirstDate=pd.NamedAgg(column='OrderDate', aggfunc='min'),\n",
        "          Frequency=pd.NamedAgg(column='order_id', aggfunc='nunique'),\n",
        "          AOV=pd.NamedAgg(column='order_amount', aggfunc='mean'),\n",
        "          OrderValue=pd.NamedAgg(column='order_amount', aggfunc='sum'),#change\n",
        "          MeanDaysDelta=pd.NamedAgg(column='DeltaDaysinOrders', aggfunc='mean'),\n",
        "          MeanOVDelta=pd.NamedAgg(column='DeltaOrderValues', aggfunc='mean'),\n",
        "          New=pd.NamedAgg(column='New',aggfunc='mean')#change\n",
        "      ).reset_index()\n",
        "globalmaxdate=e['OrderDate'].max()\n",
        "x1['Recency']=globalmaxdate-x1['LastDate']\n",
        "x1['Recency']=x1['Recency'].dt.days.abs()\n",
        "x1['ActivatedQuater']=x1['FirstDate'].dt.to_period('Q')\n",
        "x1['MaturityAge']=np.nan\n",
        "x1.loc[x1['Frequency']>1,\"MaturityAge\"]=(x1['LastDate']-x1['FirstDate']).dt.days.abs()\n",
        "x1['MeanDaysDelta']=x1['MeanDaysDelta'].fillna(0)\n",
        "x1['MeanOVDelta']=x1['MeanOVDelta'].fillna(0)\n",
        "\n",
        "r_labels, f_labels,AOV_labels, m_labels,DelAOV_labels = range(4, 0, -1), range(1,5), range(1,5),range(1,5),range(1,5)\n",
        "x1['r_score'] = x1['Recency'].transform(lambda x: pd.qcut(x.rank(method='first'), q = [0, 0.25, 0.5, 0.75, 1], labels = r_labels)).astype('int64')\n",
        "x1['f2d_score'] = x1['Frequency'].transform(lambda x: pd.qcut(x.rank(method='first'), q = [0, 0.25, 0.5, 0.75, 1], labels = f_labels)).astype('int64')\n",
        "x1['AOV_score'] = x1['AOV'].transform(lambda x: pd.qcut(x.rank(method='first'), q = [0, 0.25, 0.5, 0.75, 1], labels = AOV_labels)).astype('int64')\n",
        "x1['m_score']=0\n",
        "x1.loc[x1['MaturityAge'].notnull(),'m_score']= x1.loc[x1['MaturityAge'].notnull()]['MaturityAge'].transform(lambda x: pd.qcut(x.rank(method='first'), q = [0, 0.25, 0.5, 0.75, 1], labels = m_labels)).astype('int64')\n",
        "x1['DelAOV'] = x1['MeanOVDelta'].transform(lambda x: pd.qcut(x.rank(method='first'), q = [0, 0.25, 0.5, 0.75, 1], labels = DelAOV_labels)).astype('int64')\n",
        "x1['SumScore'] = x1['r_score'] + x1['f2d_score'] + x1['m_score'] + x1['AOV_score']+ x1['DelAOV']\n",
        "\n",
        "def CohortLables_3(df):\n",
        "    if ((df['Frequency']==1) & (df['r_score']>2)):\n",
        "        return \"New\"\n",
        "    elif ((df['Frequency'] == 1) & (df['r_score'] <= 2)):\n",
        "        return 'Churned (Single Use Only)'\n",
        "    elif ((df['Frequency'] > 1) & (df['m_score'] < 3) & (df['r_score'] >2)):\n",
        "        return 'Recent & Loyals'\n",
        "    elif ((df['Frequency'] > 1) & (df['m_score'] >=3) & (df['r_score'] > 2)):\n",
        "        return 'Champions'\n",
        "    else:\n",
        "        return 'Churned (Repeat Use)'\n",
        "x1['CohortLabel'] = x1.apply(CohortLables_3, axis=1)"
      ]
    },
    {
      "cell_type": "code",
      "execution_count": 24,
      "metadata": {
        "id": "wHp-PTs_TCEE"
      },
      "outputs": [],
      "source": [
        "# change\n",
        "segstats=x1.groupby(\n",
        "  'CohortLabel'\n",
        ").agg(\n",
        "      Users=pd.NamedAgg(column='user_id', aggfunc='nunique'),\n",
        "      Recency=pd.NamedAgg(column='Recency', aggfunc='mean'),\n",
        "      Frequency=pd.NamedAgg(column='Frequency', aggfunc='mean'),\n",
        "      OrderValue=pd.NamedAgg(column='OrderValue', aggfunc='sum'), #change\n",
        "      #MeanDaysDelta=pd.NamedAgg(column='MeanDaysDelta', aggfunc='mean'),\n",
        "      #MeanOVDelta=pd.NamedAgg(column='MeanOVDelta', aggfunc='mean'),\n",
        "      #FrequencyperDeltaDays=pd.NamedAgg(column='FrequencyperDeltaDays', aggfunc='mean'),\n",
        "    Maturity=pd.NamedAgg(column='MaturityAge', aggfunc='mean'),\n",
        "    OrderCount=pd.NamedAgg(column='Frequency', aggfunc='sum'),\n",
        ").reset_index()\n",
        "segstats[\"AOV\"]=segstats['OrderValue']/segstats['OrderCount']\n",
        "segstats['OrderValueMix']=segstats['OrderValue']/segstats['OrderValue'].sum()\n",
        "segstats['UsersMix']=segstats['Users']/segstats['Users'].sum()\n",
        "segstats['AOV_Contribution']=segstats['OrderValue']/segstats['OrderCount'].sum()\n",
        "segstats['OrderCountMix']=segstats['OrderCount']/segstats['OrderCount'].sum()"
      ]
    },
    {
      "cell_type": "code",
      "execution_count": 25,
      "metadata": {
        "id": "ikdZkDCzIs9C"
      },
      "outputs": [],
      "source": [
        "# change\n",
        "overall_totals = segstats.drop(columns='CohortLabel').sum().tolist()\n",
        "overall_totals.insert(0, 'Overall')\n",
        "overall_df = pd.DataFrame([overall_totals], columns=segstats.columns)\n",
        "segstats = pd.concat([segstats, overall_df], ignore_index=True)"
      ]
    },
    {
      "cell_type": "code",
      "execution_count": 26,
      "metadata": {
        "id": "7RP3CmDVo54e"
      },
      "outputs": [],
      "source": [
        "# change\n",
        "def weighted_average_column(df, column_name, weights_column):\n",
        "    data = df[column_name]\n",
        "    weights = df[weights_column]\n",
        "\n",
        "    if weights.sum() == 0:\n",
        "        raise ValueError(\"Total weight must be greater than 0.\")\n",
        "\n",
        "    return (data * weights).sum() / weights.sum()\n",
        "\n",
        "h = weighted_average_column(segstats, 'Maturity', 'Users')"
      ]
    },
    {
      "cell_type": "code",
      "execution_count": 27,
      "metadata": {
        "id": "y9AdFUsNlyLn"
      },
      "outputs": [],
      "source": [
        "#change\n",
        "segstats.loc[segstats['CohortLabel'] == 'Overall', 'Recency'] = segstats['Recency'].min()\n",
        "segstats.loc[segstats['CohortLabel'] == 'Overall', 'Frequency'] = segstats['OrderCount'].sum()/segstats['Users'].sum()\n",
        "segstats.loc[segstats['CohortLabel'] == 'Overall', 'AOV'] = segstats['OrderValue'].sum()/segstats['OrderCount'].sum()\n",
        "segstats.loc[segstats['CohortLabel'] == 'Overall', 'Maturity']= h"
      ]
    },
    {
      "cell_type": "code",
      "execution_count": 28,
      "metadata": {
        "id": "5xETLI-0ot3I"
      },
      "outputs": [],
      "source": [
        "# change\n",
        "segstats = (\n",
        "    segstats\n",
        "    .fillna(-999999)\n",
        "    .astype({'Users': int, 'Recency': int, 'Frequency': int, 'Maturity': int, 'OrderCount': int})\n",
        "    .round({'OrderValue': 2, 'AOV': 2, 'AOV_Contribution': 2, 'OrderValueMix': 2, 'UsersMix': 2, 'OrderCountMix': 2})\n",
        "    .replace(-999999, np.nan)\n",
        ")"
      ]
    },
    {
      "cell_type": "code",
      "execution_count": 29,
      "metadata": {
        "id": "EsUxB22uot3J"
      },
      "outputs": [],
      "source": [
        "ocm_percent_lst = []\n",
        "for i in range(len(segstats)):\n",
        "    num = segstats[\"OrderCountMix\"].iloc[i]\n",
        "    percentage = \"{:.0%}\".format(num)\n",
        "    ocm_percent_lst.append(percentage)\n",
        "segstats[\"OrderCountMix\"] = ocm_percent_lst"
      ]
    },
    {
      "cell_type": "code",
      "execution_count": 30,
      "metadata": {
        "id": "wggWhnHZot3J"
      },
      "outputs": [],
      "source": [
        "ovm_percent_lst = []\n",
        "for i in range(len(segstats)):\n",
        "    num = segstats[\"OrderValueMix\"].iloc[i]\n",
        "    percentage = \"{:.0%}\".format(num)\n",
        "    ovm_percent_lst.append(percentage)\n",
        "segstats[\"OrderValueMix\"] = ovm_percent_lst"
      ]
    },
    {
      "cell_type": "code",
      "execution_count": 31,
      "metadata": {
        "colab": {
          "base_uri": "https://localhost:8080/",
          "height": 272
        },
        "id": "iFmMuS_Rot3J",
        "outputId": "f7e1c84c-a3b4-4749-9e8e-38d85138899d"
      },
      "outputs": [
        {
          "output_type": "execute_result",
          "data": {
            "text/plain": [
              "                 CohortLabel  Users  Recency  Frequency   OrderValue  \\\n",
              "0                  Champions   2711      106          4   9863813.95   \n",
              "1       Churned (Repeat Use)   3525      521          5  12868602.56   \n",
              "2  Churned (Single Use Only)  18721      560          1  13525796.12   \n",
              "3                        New  17048      115          1   6739381.20   \n",
              "4            Recent & Loyals   2487       97          2   2561221.60   \n",
              "5                    Overall  44492       97          1  45558815.43   \n",
              "\n",
              "   Maturity  OrderCount     AOV OrderValueMix  UsersMix  AOV_Contribution  \\\n",
              "0     325.0       11641  847.33           22%      0.06            135.31   \n",
              "1     160.0       19791  650.22           28%      0.08            176.53   \n",
              "2       NaN       18721  722.49           30%      0.42            185.54   \n",
              "3       NaN       17048  395.32           15%      0.38             92.45   \n",
              "4      24.0        5698  449.49            6%      0.06             35.13   \n",
              "5     271.0       72899  624.96          100%      1.00            624.96   \n",
              "\n",
              "  OrderCountMix  \n",
              "0           16%  \n",
              "1           27%  \n",
              "2           26%  \n",
              "3           23%  \n",
              "4            8%  \n",
              "5          100%  "
            ],
            "text/html": [
              "\n",
              "  <div id=\"df-5baad14a-7587-4c51-b7ee-b12de01185ab\" class=\"colab-df-container\">\n",
              "    <div>\n",
              "<style scoped>\n",
              "    .dataframe tbody tr th:only-of-type {\n",
              "        vertical-align: middle;\n",
              "    }\n",
              "\n",
              "    .dataframe tbody tr th {\n",
              "        vertical-align: top;\n",
              "    }\n",
              "\n",
              "    .dataframe thead th {\n",
              "        text-align: right;\n",
              "    }\n",
              "</style>\n",
              "<table border=\"1\" class=\"dataframe\">\n",
              "  <thead>\n",
              "    <tr style=\"text-align: right;\">\n",
              "      <th></th>\n",
              "      <th>CohortLabel</th>\n",
              "      <th>Users</th>\n",
              "      <th>Recency</th>\n",
              "      <th>Frequency</th>\n",
              "      <th>OrderValue</th>\n",
              "      <th>Maturity</th>\n",
              "      <th>OrderCount</th>\n",
              "      <th>AOV</th>\n",
              "      <th>OrderValueMix</th>\n",
              "      <th>UsersMix</th>\n",
              "      <th>AOV_Contribution</th>\n",
              "      <th>OrderCountMix</th>\n",
              "    </tr>\n",
              "  </thead>\n",
              "  <tbody>\n",
              "    <tr>\n",
              "      <th>0</th>\n",
              "      <td>Champions</td>\n",
              "      <td>2711</td>\n",
              "      <td>106</td>\n",
              "      <td>4</td>\n",
              "      <td>9863813.95</td>\n",
              "      <td>325.0</td>\n",
              "      <td>11641</td>\n",
              "      <td>847.33</td>\n",
              "      <td>22%</td>\n",
              "      <td>0.06</td>\n",
              "      <td>135.31</td>\n",
              "      <td>16%</td>\n",
              "    </tr>\n",
              "    <tr>\n",
              "      <th>1</th>\n",
              "      <td>Churned (Repeat Use)</td>\n",
              "      <td>3525</td>\n",
              "      <td>521</td>\n",
              "      <td>5</td>\n",
              "      <td>12868602.56</td>\n",
              "      <td>160.0</td>\n",
              "      <td>19791</td>\n",
              "      <td>650.22</td>\n",
              "      <td>28%</td>\n",
              "      <td>0.08</td>\n",
              "      <td>176.53</td>\n",
              "      <td>27%</td>\n",
              "    </tr>\n",
              "    <tr>\n",
              "      <th>2</th>\n",
              "      <td>Churned (Single Use Only)</td>\n",
              "      <td>18721</td>\n",
              "      <td>560</td>\n",
              "      <td>1</td>\n",
              "      <td>13525796.12</td>\n",
              "      <td>NaN</td>\n",
              "      <td>18721</td>\n",
              "      <td>722.49</td>\n",
              "      <td>30%</td>\n",
              "      <td>0.42</td>\n",
              "      <td>185.54</td>\n",
              "      <td>26%</td>\n",
              "    </tr>\n",
              "    <tr>\n",
              "      <th>3</th>\n",
              "      <td>New</td>\n",
              "      <td>17048</td>\n",
              "      <td>115</td>\n",
              "      <td>1</td>\n",
              "      <td>6739381.20</td>\n",
              "      <td>NaN</td>\n",
              "      <td>17048</td>\n",
              "      <td>395.32</td>\n",
              "      <td>15%</td>\n",
              "      <td>0.38</td>\n",
              "      <td>92.45</td>\n",
              "      <td>23%</td>\n",
              "    </tr>\n",
              "    <tr>\n",
              "      <th>4</th>\n",
              "      <td>Recent &amp; Loyals</td>\n",
              "      <td>2487</td>\n",
              "      <td>97</td>\n",
              "      <td>2</td>\n",
              "      <td>2561221.60</td>\n",
              "      <td>24.0</td>\n",
              "      <td>5698</td>\n",
              "      <td>449.49</td>\n",
              "      <td>6%</td>\n",
              "      <td>0.06</td>\n",
              "      <td>35.13</td>\n",
              "      <td>8%</td>\n",
              "    </tr>\n",
              "    <tr>\n",
              "      <th>5</th>\n",
              "      <td>Overall</td>\n",
              "      <td>44492</td>\n",
              "      <td>97</td>\n",
              "      <td>1</td>\n",
              "      <td>45558815.43</td>\n",
              "      <td>271.0</td>\n",
              "      <td>72899</td>\n",
              "      <td>624.96</td>\n",
              "      <td>100%</td>\n",
              "      <td>1.00</td>\n",
              "      <td>624.96</td>\n",
              "      <td>100%</td>\n",
              "    </tr>\n",
              "  </tbody>\n",
              "</table>\n",
              "</div>\n",
              "    <div class=\"colab-df-buttons\">\n",
              "\n",
              "  <div class=\"colab-df-container\">\n",
              "    <button class=\"colab-df-convert\" onclick=\"convertToInteractive('df-5baad14a-7587-4c51-b7ee-b12de01185ab')\"\n",
              "            title=\"Convert this dataframe to an interactive table.\"\n",
              "            style=\"display:none;\">\n",
              "\n",
              "  <svg xmlns=\"http://www.w3.org/2000/svg\" height=\"24px\" viewBox=\"0 -960 960 960\">\n",
              "    <path d=\"M120-120v-720h720v720H120Zm60-500h600v-160H180v160Zm220 220h160v-160H400v160Zm0 220h160v-160H400v160ZM180-400h160v-160H180v160Zm440 0h160v-160H620v160ZM180-180h160v-160H180v160Zm440 0h160v-160H620v160Z\"/>\n",
              "  </svg>\n",
              "    </button>\n",
              "\n",
              "  <style>\n",
              "    .colab-df-container {\n",
              "      display:flex;\n",
              "      gap: 12px;\n",
              "    }\n",
              "\n",
              "    .colab-df-convert {\n",
              "      background-color: #E8F0FE;\n",
              "      border: none;\n",
              "      border-radius: 50%;\n",
              "      cursor: pointer;\n",
              "      display: none;\n",
              "      fill: #1967D2;\n",
              "      height: 32px;\n",
              "      padding: 0 0 0 0;\n",
              "      width: 32px;\n",
              "    }\n",
              "\n",
              "    .colab-df-convert:hover {\n",
              "      background-color: #E2EBFA;\n",
              "      box-shadow: 0px 1px 2px rgba(60, 64, 67, 0.3), 0px 1px 3px 1px rgba(60, 64, 67, 0.15);\n",
              "      fill: #174EA6;\n",
              "    }\n",
              "\n",
              "    .colab-df-buttons div {\n",
              "      margin-bottom: 4px;\n",
              "    }\n",
              "\n",
              "    [theme=dark] .colab-df-convert {\n",
              "      background-color: #3B4455;\n",
              "      fill: #D2E3FC;\n",
              "    }\n",
              "\n",
              "    [theme=dark] .colab-df-convert:hover {\n",
              "      background-color: #434B5C;\n",
              "      box-shadow: 0px 1px 3px 1px rgba(0, 0, 0, 0.15);\n",
              "      filter: drop-shadow(0px 1px 2px rgba(0, 0, 0, 0.3));\n",
              "      fill: #FFFFFF;\n",
              "    }\n",
              "  </style>\n",
              "\n",
              "    <script>\n",
              "      const buttonEl =\n",
              "        document.querySelector('#df-5baad14a-7587-4c51-b7ee-b12de01185ab button.colab-df-convert');\n",
              "      buttonEl.style.display =\n",
              "        google.colab.kernel.accessAllowed ? 'block' : 'none';\n",
              "\n",
              "      async function convertToInteractive(key) {\n",
              "        const element = document.querySelector('#df-5baad14a-7587-4c51-b7ee-b12de01185ab');\n",
              "        const dataTable =\n",
              "          await google.colab.kernel.invokeFunction('convertToInteractive',\n",
              "                                                    [key], {});\n",
              "        if (!dataTable) return;\n",
              "\n",
              "        const docLinkHtml = 'Like what you see? Visit the ' +\n",
              "          '<a target=\"_blank\" href=https://colab.research.google.com/notebooks/data_table.ipynb>data table notebook</a>'\n",
              "          + ' to learn more about interactive tables.';\n",
              "        element.innerHTML = '';\n",
              "        dataTable['output_type'] = 'display_data';\n",
              "        await google.colab.output.renderOutput(dataTable, element);\n",
              "        const docLink = document.createElement('div');\n",
              "        docLink.innerHTML = docLinkHtml;\n",
              "        element.appendChild(docLink);\n",
              "      }\n",
              "    </script>\n",
              "  </div>\n",
              "\n",
              "\n",
              "<div id=\"df-30bdcdae-2741-4dda-8f8f-b7314d1305a7\">\n",
              "  <button class=\"colab-df-quickchart\" onclick=\"quickchart('df-30bdcdae-2741-4dda-8f8f-b7314d1305a7')\"\n",
              "            title=\"Suggest charts\"\n",
              "            style=\"display:none;\">\n",
              "\n",
              "<svg xmlns=\"http://www.w3.org/2000/svg\" height=\"24px\"viewBox=\"0 0 24 24\"\n",
              "     width=\"24px\">\n",
              "    <g>\n",
              "        <path d=\"M19 3H5c-1.1 0-2 .9-2 2v14c0 1.1.9 2 2 2h14c1.1 0 2-.9 2-2V5c0-1.1-.9-2-2-2zM9 17H7v-7h2v7zm4 0h-2V7h2v10zm4 0h-2v-4h2v4z\"/>\n",
              "    </g>\n",
              "</svg>\n",
              "  </button>\n",
              "\n",
              "<style>\n",
              "  .colab-df-quickchart {\n",
              "      --bg-color: #E8F0FE;\n",
              "      --fill-color: #1967D2;\n",
              "      --hover-bg-color: #E2EBFA;\n",
              "      --hover-fill-color: #174EA6;\n",
              "      --disabled-fill-color: #AAA;\n",
              "      --disabled-bg-color: #DDD;\n",
              "  }\n",
              "\n",
              "  [theme=dark] .colab-df-quickchart {\n",
              "      --bg-color: #3B4455;\n",
              "      --fill-color: #D2E3FC;\n",
              "      --hover-bg-color: #434B5C;\n",
              "      --hover-fill-color: #FFFFFF;\n",
              "      --disabled-bg-color: #3B4455;\n",
              "      --disabled-fill-color: #666;\n",
              "  }\n",
              "\n",
              "  .colab-df-quickchart {\n",
              "    background-color: var(--bg-color);\n",
              "    border: none;\n",
              "    border-radius: 50%;\n",
              "    cursor: pointer;\n",
              "    display: none;\n",
              "    fill: var(--fill-color);\n",
              "    height: 32px;\n",
              "    padding: 0;\n",
              "    width: 32px;\n",
              "  }\n",
              "\n",
              "  .colab-df-quickchart:hover {\n",
              "    background-color: var(--hover-bg-color);\n",
              "    box-shadow: 0 1px 2px rgba(60, 64, 67, 0.3), 0 1px 3px 1px rgba(60, 64, 67, 0.15);\n",
              "    fill: var(--button-hover-fill-color);\n",
              "  }\n",
              "\n",
              "  .colab-df-quickchart-complete:disabled,\n",
              "  .colab-df-quickchart-complete:disabled:hover {\n",
              "    background-color: var(--disabled-bg-color);\n",
              "    fill: var(--disabled-fill-color);\n",
              "    box-shadow: none;\n",
              "  }\n",
              "\n",
              "  .colab-df-spinner {\n",
              "    border: 2px solid var(--fill-color);\n",
              "    border-color: transparent;\n",
              "    border-bottom-color: var(--fill-color);\n",
              "    animation:\n",
              "      spin 1s steps(1) infinite;\n",
              "  }\n",
              "\n",
              "  @keyframes spin {\n",
              "    0% {\n",
              "      border-color: transparent;\n",
              "      border-bottom-color: var(--fill-color);\n",
              "      border-left-color: var(--fill-color);\n",
              "    }\n",
              "    20% {\n",
              "      border-color: transparent;\n",
              "      border-left-color: var(--fill-color);\n",
              "      border-top-color: var(--fill-color);\n",
              "    }\n",
              "    30% {\n",
              "      border-color: transparent;\n",
              "      border-left-color: var(--fill-color);\n",
              "      border-top-color: var(--fill-color);\n",
              "      border-right-color: var(--fill-color);\n",
              "    }\n",
              "    40% {\n",
              "      border-color: transparent;\n",
              "      border-right-color: var(--fill-color);\n",
              "      border-top-color: var(--fill-color);\n",
              "    }\n",
              "    60% {\n",
              "      border-color: transparent;\n",
              "      border-right-color: var(--fill-color);\n",
              "    }\n",
              "    80% {\n",
              "      border-color: transparent;\n",
              "      border-right-color: var(--fill-color);\n",
              "      border-bottom-color: var(--fill-color);\n",
              "    }\n",
              "    90% {\n",
              "      border-color: transparent;\n",
              "      border-bottom-color: var(--fill-color);\n",
              "    }\n",
              "  }\n",
              "</style>\n",
              "\n",
              "  <script>\n",
              "    async function quickchart(key) {\n",
              "      const quickchartButtonEl =\n",
              "        document.querySelector('#' + key + ' button');\n",
              "      quickchartButtonEl.disabled = true;  // To prevent multiple clicks.\n",
              "      quickchartButtonEl.classList.add('colab-df-spinner');\n",
              "      try {\n",
              "        const charts = await google.colab.kernel.invokeFunction(\n",
              "            'suggestCharts', [key], {});\n",
              "      } catch (error) {\n",
              "        console.error('Error during call to suggestCharts:', error);\n",
              "      }\n",
              "      quickchartButtonEl.classList.remove('colab-df-spinner');\n",
              "      quickchartButtonEl.classList.add('colab-df-quickchart-complete');\n",
              "    }\n",
              "    (() => {\n",
              "      let quickchartButtonEl =\n",
              "        document.querySelector('#df-30bdcdae-2741-4dda-8f8f-b7314d1305a7 button');\n",
              "      quickchartButtonEl.style.display =\n",
              "        google.colab.kernel.accessAllowed ? 'block' : 'none';\n",
              "    })();\n",
              "  </script>\n",
              "</div>\n",
              "    </div>\n",
              "  </div>\n"
            ]
          },
          "metadata": {},
          "execution_count": 31
        }
      ],
      "source": [
        "segstats"
      ]
    },
    {
      "cell_type": "code",
      "execution_count": 32,
      "metadata": {
        "colab": {
          "base_uri": "https://localhost:8080/",
          "height": 560
        },
        "id": "OHzbN86cSHEQ",
        "outputId": "1ed76c0f-e83b-463c-d967-65e5742e8cda"
      },
      "outputs": [
        {
          "output_type": "display_data",
          "data": {
            "text/plain": [
              "<Figure size 1200x600 with 1 Axes>"
            ],
            "image/png": "[encoded data removed]"
          },
          "metadata": {}
        }
      ],
      "source": [
        "segstats_graph = segstats.drop(segstats.index[-1])\n",
        "column_to_plot = 'OrderCount'\n",
        "x_labels = segstats_graph.index\n",
        "plt.figure(figsize=(12, 6))  # Adjust the figure size if needed\n",
        "plt.bar(x_labels, segstats_graph[column_to_plot])\n",
        "plt.xlabel('CohortLabel')\n",
        "plt.ylabel(column_to_plot)\n",
        "plt.title(f'{column_to_plot} across Customer Cohorts')\n",
        "plt.xticks(fontsize=8)\n",
        "plt.show()"
      ]
    },
    {
      "cell_type": "code",
      "execution_count": 22,
      "metadata": {
        "id": "za34GC8ysI7E"
      },
      "outputs": [],
      "source": [
        "# def CohortLables_1(df):\n",
        "#   if (df['New']==1 and df['AOV_score']>2):\n",
        "#     return 'New&High Value'\n",
        "#   elif (df['New']==1 and df['AOV_score']<=2):\n",
        "#     return 'New&Low Value'\n",
        "#   elif (df['New']<1 and df['AOV_score']<=2):\n",
        "#     return 'Returning&Low Value'\n",
        "#   else:\n",
        "#     return 'Returning&High Value'\n",
        "\n",
        "# def CohortLables_2(df):\n",
        "#   if ((df['SumScore'] >= 18) and (df['Frequency']>1)):\n",
        "#       return 'Champions'\n",
        "#   elif ((df['m_score'] <=1) and (df['SumScore'] >= 10)and (df['SumScore'] < 18) and (df['r_score'] >1)):\n",
        "#       return 'New&Potential'\n",
        "#   elif ((df['m_score'] >1) and (df['SumScore'] >= 14)and (df['SumScore'] < 18)and (df['r_score'] >1)):\n",
        "#       return 'Mature&Loyal'\n",
        "#   elif ((df['m_score'] >1) and (df['SumScore'] >= 10)and (df['SumScore'] < 14)and (df['r_score'] >1)):\n",
        "#       return 'Mature&Slow'\n",
        "#   elif ((df['m_score'] <=1) and (df['SumScore'] >= 5)and (df['SumScore'] < 10)and (df['r_score'] >1)):\n",
        "#       return 'New&Slow'\n",
        "#   elif ((df['m_score'] >1) and (df['SumScore'] >= 5)and (df['SumScore'] < 10)and (df['r_score'] >1)):\n",
        "#       return 'Mature&ChurnRisk'\n",
        "#   else:\n",
        "#       return 'Churned'\n",
        "# if (count_customer<500 or no_of_days.days < 180):\n",
        "#   x1['CohortLabel'] = x1.apply(CohortLables_1, axis=1)\n",
        "# else:\n",
        "#   x1['CohortLabel'] = x1.apply(CohortLables_2, axis=1)"
      ]
    },
    {
      "cell_type": "code",
      "execution_count": 23,
      "metadata": {
        "id": "FqGn3vjjSQDC"
      },
      "outputs": [],
      "source": [
        "# count_customer = e['user_id'].nunique()\n",
        "# maxDate = e.OrderDate.max()\n",
        "# minDate = e.OrderDate.min()\n",
        "# no_of_days = maxDate - minDate\n",
        "# no_of_days.days"
      ]
    }
  ],
  "metadata": {
    "colab": {
      "provenance": []
    },
    "kernelspec": {
      "display_name": "Python 3 (ipykernel)",
      "language": "python",
      "name": "python3"
    },
    "language_info": {
      "codemirror_mode": {
        "name": "ipython",
        "version": 3
      },
      "file_extension": ".py",
      "mimetype": "text/x-python",
      "name": "python",
      "nbconvert_exporter": "python",
      "pygments_lexer": "ipython3",
      "version": "3.12.0"
    }
  },
  "nbformat": 4,
  "nbformat_minor": 0
}