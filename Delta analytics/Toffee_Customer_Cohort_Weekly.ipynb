{
  "nbformat": 4,
  "nbformat_minor": 0,
  "metadata": {
    "colab": {
      "provenance": []
    },
    "kernelspec": {
      "name": "python3",
      "display_name": "Python 3"
    },
    "language_info": {
      "name": "python"
    }
  },
  "cells": [
    {
      "cell_type": "code",
      "execution_count": null,
      "metadata": {
        "id": "e_95ZlmwTGh1"
      },
      "outputs": [],
      "source": [
        "from datetime import datetime, timedelta\n",
        "import matplotlib.pyplot as plt\n",
        "import pandas as pd\n",
        "import psycopg2\n",
        "import calendar\n",
        "import random\n",
        "import seaborn as sns\n",
        "import numpy as np"
      ]
    },
    {
      "cell_type": "code",
      "source": [
        "conn = psycopg2.connect(\n",
        "    port = \"5432\",\n",
        "host = \"shopify-merchant-dump.ccm9mnr5avgs.ap-south-1.rds.amazonaws.com\",\n",
        "  user = \"toffee_coffee_roasters_69e3f806d0674953afe3d3fb2f724c7c\",\n",
        "  password = \"toffee_coffee_roasters_69e3f806d0674953afe3d3fb2f724c7c_password\",\n",
        "  database = \"toffee_coffee_roasters_69e3f806d0674953afe3d3fb2f724c7c_db\"\n",
        ")"
      ],
      "metadata": {
        "id": "WQGgk0vQTHun"
      },
      "execution_count": null,
      "outputs": []
    },
    {
      "cell_type": "code",
      "source": [
        "query1 = \"\"\"select o.id as order_id,\n",
        "            o.created_at::date as order_date,\n",
        "            o.customer_id as user_id,\n",
        "            oli.product_id as product_id,\n",
        "            oli.name as product_name,\n",
        "            CASE\n",
        "        WHEN cancelled_at IS NOT NULL THEN 'Cancelled'\n",
        "         ELSE 'Delivered'\n",
        "     END as order_status,\n",
        "            oli.quantity as quantity,\n",
        "            oli.price as sp\n",
        "            from orders o\n",
        "            join order_line_item oli on oli.order_id = o.id\"\"\""
      ],
      "metadata": {
        "id": "7ls6Q_bXTH5k"
      },
      "execution_count": null,
      "outputs": []
    },
    {
      "cell_type": "code",
      "source": [
        "data = pd.read_sql(query1, conn)"
      ],
      "metadata": {
        "colab": {
          "base_uri": "https://localhost:8080/"
        },
        "id": "YnaILRaCTIC0",
        "outputId": "cc72eab0-056c-4ff3-f809-021092631106"
      },
      "execution_count": null,
      "outputs": [
        {
          "output_type": "stream",
          "name": "stderr",
          "text": [
            "<ipython-input-4-0600e2216395>:1: UserWarning: pandas only supports SQLAlchemy connectable (engine/connection) or database string URI or sqlite3 DBAPI2 connection. Other DBAPI2 objects are not tested. Please consider using SQLAlchemy.\n",
            "  data = pd.read_sql(query1, conn)\n"
          ]
        }
      ]
    },
    {
      "cell_type": "code",
      "source": [
        "data[\"order_date\"] = pd.to_datetime(data[\"order_date\"])"
      ],
      "metadata": {
        "id": "hVp1N_4wTIKE"
      },
      "execution_count": null,
      "outputs": []
    },
    {
      "cell_type": "code",
      "source": [
        "data[data[\"product_id\"] == np.nan]"
      ],
      "metadata": {
        "colab": {
          "base_uri": "https://localhost:8080/",
          "height": 53
        },
        "id": "AuAqRY4fTIQ7",
        "outputId": "b631a4fc-953e-42bb-90b8-cb619611f6e2"
      },
      "execution_count": null,
      "outputs": [
        {
          "output_type": "execute_result",
          "data": {
            "text/plain": [
              "Empty DataFrame\n",
              "Columns: [order_id, order_date, user_id, product_id, product_name, order_status, quantity, sp]\n",
              "Index: []"
            ],
            "text/html": [
              "\n",
              "  <div id=\"df-59097163-9941-4a22-945d-550b264c9a35\" class=\"colab-df-container\">\n",
              "    <div>\n",
              "<style scoped>\n",
              "    .dataframe tbody tr th:only-of-type {\n",
              "        vertical-align: middle;\n",
              "    }\n",
              "\n",
              "    .dataframe tbody tr th {\n",
              "        vertical-align: top;\n",
              "    }\n",
              "\n",
              "    .dataframe thead th {\n",
              "        text-align: right;\n",
              "    }\n",
              "</style>\n",
              "<table border=\"1\" class=\"dataframe\">\n",
              "  <thead>\n",
              "    <tr style=\"text-align: right;\">\n",
              "      <th></th>\n",
              "      <th>order_id</th>\n",
              "      <th>order_date</th>\n",
              "      <th>user_id</th>\n",
              "      <th>product_id</th>\n",
              "      <th>product_name</th>\n",
              "      <th>order_status</th>\n",
              "      <th>quantity</th>\n",
              "      <th>sp</th>\n",
              "    </tr>\n",
              "  </thead>\n",
              "  <tbody>\n",
              "  </tbody>\n",
              "</table>\n",
              "</div>\n",
              "    <div class=\"colab-df-buttons\">\n",
              "\n",
              "  <div class=\"colab-df-container\">\n",
              "    <button class=\"colab-df-convert\" onclick=\"convertToInteractive('df-59097163-9941-4a22-945d-550b264c9a35')\"\n",
              "            title=\"Convert this dataframe to an interactive table.\"\n",
              "            style=\"display:none;\">\n",
              "\n",
              "  <svg xmlns=\"http://www.w3.org/2000/svg\" height=\"24px\" viewBox=\"0 -960 960 960\">\n",
              "    <path d=\"M120-120v-720h720v720H120Zm60-500h600v-160H180v160Zm220 220h160v-160H400v160Zm0 220h160v-160H400v160ZM180-400h160v-160H180v160Zm440 0h160v-160H620v160ZM180-180h160v-160H180v160Zm440 0h160v-160H620v160Z\"/>\n",
              "  </svg>\n",
              "    </button>\n",
              "\n",
              "  <style>\n",
              "    .colab-df-container {\n",
              "      display:flex;\n",
              "      gap: 12px;\n",
              "    }\n",
              "\n",
              "    .colab-df-convert {\n",
              "      background-color: #E8F0FE;\n",
              "      border: none;\n",
              "      border-radius: 50%;\n",
              "      cursor: pointer;\n",
              "      display: none;\n",
              "      fill: #1967D2;\n",
              "      height: 32px;\n",
              "      padding: 0 0 0 0;\n",
              "      width: 32px;\n",
              "    }\n",
              "\n",
              "    .colab-df-convert:hover {\n",
              "      background-color: #E2EBFA;\n",
              "      box-shadow: 0px 1px 2px rgba(60, 64, 67, 0.3), 0px 1px 3px 1px rgba(60, 64, 67, 0.15);\n",
              "      fill: #174EA6;\n",
              "    }\n",
              "\n",
              "    .colab-df-buttons div {\n",
              "      margin-bottom: 4px;\n",
              "    }\n",
              "\n",
              "    [theme=dark] .colab-df-convert {\n",
              "      background-color: #3B4455;\n",
              "      fill: #D2E3FC;\n",
              "    }\n",
              "\n",
              "    [theme=dark] .colab-df-convert:hover {\n",
              "      background-color: #434B5C;\n",
              "      box-shadow: 0px 1px 3px 1px rgba(0, 0, 0, 0.15);\n",
              "      filter: drop-shadow(0px 1px 2px rgba(0, 0, 0, 0.3));\n",
              "      fill: #FFFFFF;\n",
              "    }\n",
              "  </style>\n",
              "\n",
              "    <script>\n",
              "      const buttonEl =\n",
              "        document.querySelector('#df-59097163-9941-4a22-945d-550b264c9a35 button.colab-df-convert');\n",
              "      buttonEl.style.display =\n",
              "        google.colab.kernel.accessAllowed ? 'block' : 'none';\n",
              "\n",
              "      async function convertToInteractive(key) {\n",
              "        const element = document.querySelector('#df-59097163-9941-4a22-945d-550b264c9a35');\n",
              "        const dataTable =\n",
              "          await google.colab.kernel.invokeFunction('convertToInteractive',\n",
              "                                                    [key], {});\n",
              "        if (!dataTable) return;\n",
              "\n",
              "        const docLinkHtml = 'Like what you see? Visit the ' +\n",
              "          '<a target=\"_blank\" href=https://colab.research.google.com/notebooks/data_table.ipynb>data table notebook</a>'\n",
              "          + ' to learn more about interactive tables.';\n",
              "        element.innerHTML = '';\n",
              "        dataTable['output_type'] = 'display_data';\n",
              "        await google.colab.output.renderOutput(dataTable, element);\n",
              "        const docLink = document.createElement('div');\n",
              "        docLink.innerHTML = docLinkHtml;\n",
              "        element.appendChild(docLink);\n",
              "      }\n",
              "    </script>\n",
              "  </div>\n",
              "\n",
              "    </div>\n",
              "  </div>\n"
            ]
          },
          "metadata": {},
          "execution_count": 6
        }
      ]
    },
    {
      "cell_type": "code",
      "source": [
        "data['WeekCount']=data['order_date'].dt.strftime('%y-w%U')"
      ],
      "metadata": {
        "id": "xOta_XW9TIYW"
      },
      "execution_count": null,
      "outputs": []
    },
    {
      "cell_type": "code",
      "source": [
        "data = data.dropna()"
      ],
      "metadata": {
        "id": "Tn0s8znsTIek"
      },
      "execution_count": null,
      "outputs": []
    },
    {
      "cell_type": "code",
      "source": [
        "data=data.sort_values('order_date')\n",
        "WeekList=data['WeekCount'].unique()"
      ],
      "metadata": {
        "id": "SJ3bcKECTImX"
      },
      "execution_count": null,
      "outputs": []
    },
    {
      "cell_type": "code",
      "source": [
        "WeekList.tolist()\n",
        "output_list = []\n",
        "\n",
        "for i in range(len(WeekList) - 1):\n",
        "    output_list.append(WeekList[i])\n",
        "    current_week = int(WeekList[i].split('-w')[1])\n",
        "    next_week = int(WeekList[i + 1].split('-w')[1])\n",
        "    missing_weeks = next_week - current_week - 1\n",
        "    for j in range(1, missing_weeks + 1):\n",
        "        missing_week = current_week + j\n",
        "        output_list.append(f'{WeekList[i][:3]}w{missing_week:02d}')\n",
        "\n",
        "output_list.append(WeekList[-1])"
      ],
      "metadata": {
        "id": "1nrO8rABTI02"
      },
      "execution_count": null,
      "outputs": []
    },
    {
      "cell_type": "code",
      "source": [
        "orderuserlevel=data.groupby(['order_id','user_id']).agg(\n",
        "          order_date=pd.NamedAgg(column='order_date', aggfunc='min'),\n",
        "\n",
        "    ).reset_index()\n",
        "orderuserlevel=orderuserlevel.sort_values('order_date')\n",
        "orderuserlevel['TrxnRank'] = orderuserlevel.groupby('user_id')['order_date'].rank(method='first')\n",
        "orderuserlevel\n",
        "\n",
        "\n",
        "data=pd.merge(data,\n",
        "         orderuserlevel[['order_id','TrxnRank']],\n",
        "         on=\"order_id\",\n",
        "         how ='left')\n",
        "data['New']=0\n",
        "data['Repeat']=0\n",
        "data.loc[data['TrxnRank']==1,'New']=1\n",
        "data.loc[data['TrxnRank']>1,'Repeat']=1\n",
        "\n",
        "#AOV Contribution\n",
        "data['ordervalue']=data['quantity']*data['sp']\n",
        "data['AOVContribution']=data['ordervalue']/data[\"order_id\"].nunique()\n",
        "data['DeltaDaysinOrders']=(data.groupby('user_id').order_date.shift() - data.order_date).dt.days.abs()\n",
        "data['DeltaOrderValues']=(data.groupby('user_id').ordervalue.shift() - data.ordervalue)"
      ],
      "metadata": {
        "id": "CSud9Px_TbLt"
      },
      "execution_count": null,
      "outputs": []
    },
    {
      "cell_type": "code",
      "source": [
        "weeklyusersegsats = {}\n",
        "for x in output_list:\n",
        "  x3 = data[data['WeekCount'] <= x] #50\n",
        "  try:\n",
        "    userweeklydata = x3.groupby(\"user_id\").agg(\n",
        "          Last_Date=pd.NamedAgg(column='order_date', aggfunc= lambda x: x.nlargest(2).min()),\n",
        "          First_Date=pd.NamedAgg(column='order_date', aggfunc='min'),\n",
        "          OrdersCount=pd.NamedAgg(column='order_id', aggfunc='nunique'),\n",
        "          Order_Value=pd.NamedAgg(column='ordervalue', aggfunc='sum'),\n",
        "          Mean_Days_Delta=pd.NamedAgg(column='DeltaDaysinOrders', aggfunc='mean'),\n",
        "          Mean_OV_Delta=pd.NamedAgg(column='DeltaOrderValues', aggfunc='mean')\n",
        "          ).reset_index()\n",
        "    globalmaxdateweek=x3['order_date'].max()\n",
        "    userweeklydata['Recency']=globalmaxdateweek-userweeklydata['Last_Date']\n",
        "    userweeklydata['Recency']=userweeklydata['Recency'].dt.days.abs()\n",
        "    userweeklydata['Activated_Quater']=userweeklydata['First_Date'].dt.to_period('Q')\n",
        "    userweeklydata['Maturity_Age']=userweeklydata['Last_Date']-userweeklydata['First_Date']\n",
        "    userweeklydata['Maturity_Age']=userweeklydata['Maturity_Age'].dt.days.abs()\n",
        "    userweeklydata['Mean_Days_Delta']=userweeklydata['Mean_Days_Delta'].fillna(0)\n",
        "    userweeklydata['Mean_OV_Delta']=userweeklydata['Mean_OV_Delta'].fillna(0)\n",
        "    userweeklydata['Customer_AOV']=userweeklydata['Order_Value']/userweeklydata['OrdersCount']\n",
        "\n",
        "    r_labels, f_labels,AOV_labels, m_labels,DelAOV_labels = range(4, 0, -1), range(1,5), range(1,5),range(1,5),range(1,5)\n",
        "    userweeklydata['f_score'] = userweeklydata['OrdersCount'].transform(lambda x: pd.qcut(x.rank(method='first'), q = [0, 0.25, 0.5, 0.75, 1], labels = f_labels)).astype('int64')\n",
        "    # userweeklydata['f_score'] = userweeklydata['OrdersCount'].transform(lambda x: pd.qcut(x[~x.duplicated()].rank(method='first'), q=[0, 0.25, 0.5, 0.75, 1], labels=f_labels)).astype('int64')\n",
        "    userweeklydata['r_score'] = userweeklydata['Recency'].transform(lambda x: pd.qcut(x.rank(method='first'), q = [0, 0.25, 0.5, 0.75, 1], labels = r_labels)).astype('int64')\n",
        "    userweeklydata['AOV_score'] = userweeklydata['Customer_AOV'].transform(lambda x: pd.qcut(x.rank(method='first'), q = [0, 0.25, 0.5, 0.75, 1], labels = AOV_labels)).astype('int64')\n",
        "    userweeklydata['m_score'] = userweeklydata['Maturity_Age'].transform(lambda x: pd.qcut(x.rank(method='first'), q = [0, 0.25, 0.5, 0.75, 1], labels = m_labels)).astype('int64')\n",
        "    userweeklydata['DelAOV'] = userweeklydata['Mean_OV_Delta'].transform(lambda x: pd.qcut(x.rank(method='first'), q = [0, 0.25, 0.5, 0.75, 1], labels = DelAOV_labels)).astype('int64')\n",
        "    userweeklydata['SumScore'] = userweeklydata['r_score'] + userweeklydata['m_score'] + userweeklydata['AOV_score']+ userweeklydata['DelAOV'] +userweeklydata['f_score']\n",
        "    def CohortLables(df):\n",
        "        if df['SumScore'] >= 18:\n",
        "            return 'Champions'\n",
        "        elif ((df['m_score'] <=1) and (df['SumScore'] >= 10)and (df['SumScore'] < 18) and (df['r_score'] >1)):\n",
        "            return 'New&Potential'\n",
        "        elif ((df['m_score'] >1) and (df['SumScore'] >= 14)and (df['SumScore'] < 18)and (df['r_score'] >1)):\n",
        "            return 'Mature&Loyal'\n",
        "        elif ((df['m_score'] >1) and (df['SumScore'] >= 10)and (df['SumScore'] < 14)and (df['r_score'] >1)):\n",
        "            return 'Mature&Slow'\n",
        "        elif ((df['m_score'] <=1) and (df['SumScore'] >= 5)and (df['SumScore'] < 10)and (df['r_score'] >1)):\n",
        "            return 'New&Slow'\n",
        "        elif ((df['m_score'] >1) and (df['SumScore'] >= 5)and (df['SumScore'] < 10)and (df['r_score'] >1)):\n",
        "            return 'Mature&ChurnRisk'\n",
        "        else:\n",
        "            return 'Churned'\n",
        "\n",
        "    userweeklydata['CohortLabel'] = userweeklydata.apply(CohortLables, axis=1)\n",
        "\n",
        "    usersegstats=userweeklydata.groupby(\n",
        "      'CohortLabel'\n",
        "    ).agg(\n",
        "          Users=pd.NamedAgg(column='user_id', aggfunc='nunique'),\n",
        "          Orders=pd.NamedAgg(column='OrdersCount', aggfunc='sum'),\n",
        "          Recency=pd.NamedAgg(column='Recency', aggfunc='mean'),\n",
        "          OrderValue=pd.NamedAgg(column='Order_Value', aggfunc='sum'),\n",
        "          MeanDaysDelta=pd.NamedAgg(column='Mean_Days_Delta', aggfunc='mean'),\n",
        "          MeanOVDelta=pd.NamedAgg(column='Mean_OV_Delta', aggfunc='mean'),\n",
        "          Maturity=pd.NamedAgg(column='Maturity_Age', aggfunc='mean'),\n",
        "    )\n",
        "\n",
        "    usersegstats[\"Frequency\"] = usersegstats[\"Orders\"] / usersegstats[\"Users\"]\n",
        "    usersegstats[\"AOVContribution\"] = usersegstats[\"OrderValue\"] / usersegstats[\"Orders\"].sum()\n",
        "    usersegstats[\"AOV\"] = usersegstats[\"OrderValue\"] / usersegstats[\"Orders\"]\n",
        "    user_cohort_labels = ['Champions', 'Churned', 'Mature&ChurnRisk', 'Mature&Loyal', 'Mature&Slow', 'New&Potential', 'New&Slow']\n",
        "    var_list = ['Users', 'Orders', 'Recency', 'AOVContribution', 'OrderValue',\n",
        "        'MeanDaysDelta', 'MeanOVDelta', 'Maturity', 'Frequency', 'AOV']\n",
        "    dummy_df = pd.DataFrame(index=user_cohort_labels, columns=var_list)\n",
        "    for i in user_cohort_labels:\n",
        "        try:\n",
        "          dummy_df.loc[i] = usersegstats.loc[i]\n",
        "        except:\n",
        "          pass\n",
        "    dummy_df = dummy_df.fillna(0)\n",
        "\n",
        "      # usersegstats = usersegstats.reset_index().iloc[:, 1:]\n",
        "    usersegstats = dummy_df\n",
        "    usersegstats = usersegstats.stack()\n",
        "    usersegstats=usersegstats.reset_index()\n",
        "    usersegstats = usersegstats.rename(columns={'level_0': 'User Cohort Lables'})\n",
        "    usersegstats=usersegstats.rename(columns={\"level_1\": \"Product Variable\"})\n",
        "    usersegstats=usersegstats.rename(columns={0: \"Product Value\"})\n",
        "    weeklyusersegsats[x] = usersegstats\n",
        "  except:\n",
        "    pass"
      ],
      "metadata": {
        "id": "W2_FER1rTbSs"
      },
      "execution_count": null,
      "outputs": []
    },
    {
      "cell_type": "code",
      "source": [
        "each_metric_df = {}\n",
        "ListofCustomerCohortVariables = usersegstats.columns.to_list()\n",
        "Line_Chart_Variable_List_Customer = ['Recency', 'OrderValue', 'MeanDaysDelta', 'MeanOVDelta', 'Maturity', 'Frequency', 'AOV']\n",
        "Stack_Chart_Variable_List_Customer = ['Users', 'Orders', 'AOVContribution']\n",
        "for week, df in weeklyusersegsats.items():\n",
        "    df.sort_index(inplace=True)\n",
        "\n",
        "def metric_graph(metric):\n",
        "  if metric in Line_Chart_Variable_List_Customer:\n",
        "    column_df = pd.DataFrame({week: df[metric].tolist() for week, df in weeklyusersegsats.items()})\n",
        "    column_df.index = user_cohort_labels\n",
        "    column_transposed = column_df.transpose()\n",
        "    insights_table = column_transposed\n",
        "    each_metric_df[metric] = column_transposed\n",
        "    weeks = column_transposed.index.to_list()\n",
        "    for column_name, values in column_transposed.items():\n",
        "      plt.plot(weeks, values, label=column_name)\n",
        "    plt.xlabel('Weeks')\n",
        "    plt.ylabel(metric)\n",
        "    plt.title(f'Weekly {metric}')\n",
        "    plt.xticks(fontsize=4, rotation=90)\n",
        "    plt.legend(loc='upper left', bbox_to_anchor=(1,1), title = 'Customer Cohort Lables')\n",
        "    plt.show()\n",
        "\n",
        "  if metric in Stack_Chart_Variable_List_Customer:\n",
        "    variable_df = pd.DataFrame({week: df[metric].tolist() for week, df in weeklyusersegsats.items()})\n",
        "    variable_df.index = user_cohort_labels\n",
        "    variable_df_transposed = variable_df.transpose()\n",
        "    each_metric_df[metric] = variable_df_transposed\n",
        "    insights_table = variable_df_transposed\n",
        "    graph2 = variable_df_transposed\n",
        "    graph2.plot(kind='bar', stacked=True, figsize=(8, 4))\n",
        "    plt.title(f'Weekly {metric}')\n",
        "    plt.xticks(fontsize=4)\n",
        "    plt.xlabel('Weeks')\n",
        "    plt.ylabel(metric)\n",
        "    plt.legend(loc='upper left', bbox_to_anchor=(1,1), title = 'Customer Cohort Lables')\n",
        "    plt.show()\n",
        "\n",
        "output = metric_graph('Recency')\n",
        "output"
      ],
      "metadata": {
        "id": "Iu8rNTFhTbjt",
        "colab": {
          "base_uri": "https://localhost:8080/",
          "height": 513
        },
        "outputId": "6b3ca4c3-84cf-4917-bd68-4b2e73911c1e"
      },
      "execution_count": null,
      "outputs": [
        {
          "output_type": "error",
          "ename": "KeyError",
          "evalue": "ignored",
          "traceback": [
            "\u001b[0;31m---------------------------------------------------------------------------\u001b[0m",
            "\u001b[0;31mKeyError\u001b[0m                                  Traceback (most recent call last)",
            "\u001b[0;32m/usr/local/lib/python3.10/dist-packages/pandas/core/indexes/base.py\u001b[0m in \u001b[0;36mget_loc\u001b[0;34m(self, key, method, tolerance)\u001b[0m\n\u001b[1;32m   3801\u001b[0m             \u001b[0;32mtry\u001b[0m\u001b[0;34m:\u001b[0m\u001b[0;34m\u001b[0m\u001b[0;34m\u001b[0m\u001b[0m\n\u001b[0;32m-> 3802\u001b[0;31m                 \u001b[0;32mreturn\u001b[0m \u001b[0mself\u001b[0m\u001b[0;34m.\u001b[0m\u001b[0m_engine\u001b[0m\u001b[0;34m.\u001b[0m\u001b[0mget_loc\u001b[0m\u001b[0;34m(\u001b[0m\u001b[0mcasted_key\u001b[0m\u001b[0;34m)\u001b[0m\u001b[0;34m\u001b[0m\u001b[0;34m\u001b[0m\u001b[0m\n\u001b[0m\u001b[1;32m   3803\u001b[0m             \u001b[0;32mexcept\u001b[0m \u001b[0mKeyError\u001b[0m \u001b[0;32mas\u001b[0m \u001b[0merr\u001b[0m\u001b[0;34m:\u001b[0m\u001b[0;34m\u001b[0m\u001b[0;34m\u001b[0m\u001b[0m\n",
            "\u001b[0;32m/usr/local/lib/python3.10/dist-packages/pandas/_libs/index.pyx\u001b[0m in \u001b[0;36mpandas._libs.index.IndexEngine.get_loc\u001b[0;34m()\u001b[0m\n",
            "\u001b[0;32m/usr/local/lib/python3.10/dist-packages/pandas/_libs/index.pyx\u001b[0m in \u001b[0;36mpandas._libs.index.IndexEngine.get_loc\u001b[0;34m()\u001b[0m\n",
            "\u001b[0;32mpandas/_libs/hashtable_class_helper.pxi\u001b[0m in \u001b[0;36mpandas._libs.hashtable.PyObjectHashTable.get_item\u001b[0;34m()\u001b[0m\n",
            "\u001b[0;32mpandas/_libs/hashtable_class_helper.pxi\u001b[0m in \u001b[0;36mpandas._libs.hashtable.PyObjectHashTable.get_item\u001b[0;34m()\u001b[0m\n",
            "\u001b[0;31mKeyError\u001b[0m: 'Recency'",
            "\nThe above exception was the direct cause of the following exception:\n",
            "\u001b[0;31mKeyError\u001b[0m                                  Traceback (most recent call last)",
            "\u001b[0;32m<ipython-input-13-b170bdc367cb>\u001b[0m in \u001b[0;36m<cell line: 8>\u001b[0;34m()\u001b[0m\n\u001b[1;32m      7\u001b[0m \u001b[0;34m\u001b[0m\u001b[0m\n\u001b[1;32m      8\u001b[0m \u001b[0;32mfor\u001b[0m \u001b[0mx\u001b[0m \u001b[0;32min\u001b[0m \u001b[0mLine_Chart_Variable_List_Customer\u001b[0m\u001b[0;34m:\u001b[0m\u001b[0;34m\u001b[0m\u001b[0;34m\u001b[0m\u001b[0m\n\u001b[0;32m----> 9\u001b[0;31m   \u001b[0mcolumn_df\u001b[0m \u001b[0;34m=\u001b[0m \u001b[0mpd\u001b[0m\u001b[0;34m.\u001b[0m\u001b[0mDataFrame\u001b[0m\u001b[0;34m(\u001b[0m\u001b[0;34m{\u001b[0m\u001b[0mweek\u001b[0m\u001b[0;34m:\u001b[0m \u001b[0mdf\u001b[0m\u001b[0;34m[\u001b[0m\u001b[0mx\u001b[0m\u001b[0;34m]\u001b[0m\u001b[0;34m.\u001b[0m\u001b[0mtolist\u001b[0m\u001b[0;34m(\u001b[0m\u001b[0;34m)\u001b[0m \u001b[0;32mfor\u001b[0m \u001b[0mweek\u001b[0m\u001b[0;34m,\u001b[0m \u001b[0mdf\u001b[0m \u001b[0;32min\u001b[0m \u001b[0mweeklyusersegsats\u001b[0m\u001b[0;34m.\u001b[0m\u001b[0mitems\u001b[0m\u001b[0;34m(\u001b[0m\u001b[0;34m)\u001b[0m\u001b[0;34m}\u001b[0m\u001b[0;34m)\u001b[0m\u001b[0;34m\u001b[0m\u001b[0;34m\u001b[0m\u001b[0m\n\u001b[0m\u001b[1;32m     10\u001b[0m   \u001b[0mcolumn_df\u001b[0m\u001b[0;34m.\u001b[0m\u001b[0mindex\u001b[0m \u001b[0;34m=\u001b[0m \u001b[0muser_cohort_labels\u001b[0m\u001b[0;34m\u001b[0m\u001b[0;34m\u001b[0m\u001b[0m\n\u001b[1;32m     11\u001b[0m   \u001b[0mcolumn_transposed\u001b[0m \u001b[0;34m=\u001b[0m \u001b[0mcolumn_df\u001b[0m\u001b[0;34m.\u001b[0m\u001b[0mtranspose\u001b[0m\u001b[0;34m(\u001b[0m\u001b[0;34m)\u001b[0m\u001b[0;34m\u001b[0m\u001b[0;34m\u001b[0m\u001b[0m\n",
            "\u001b[0;32m<ipython-input-13-b170bdc367cb>\u001b[0m in \u001b[0;36m<dictcomp>\u001b[0;34m(.0)\u001b[0m\n\u001b[1;32m      7\u001b[0m \u001b[0;34m\u001b[0m\u001b[0m\n\u001b[1;32m      8\u001b[0m \u001b[0;32mfor\u001b[0m \u001b[0mx\u001b[0m \u001b[0;32min\u001b[0m \u001b[0mLine_Chart_Variable_List_Customer\u001b[0m\u001b[0;34m:\u001b[0m\u001b[0;34m\u001b[0m\u001b[0;34m\u001b[0m\u001b[0m\n\u001b[0;32m----> 9\u001b[0;31m   \u001b[0mcolumn_df\u001b[0m \u001b[0;34m=\u001b[0m \u001b[0mpd\u001b[0m\u001b[0;34m.\u001b[0m\u001b[0mDataFrame\u001b[0m\u001b[0;34m(\u001b[0m\u001b[0;34m{\u001b[0m\u001b[0mweek\u001b[0m\u001b[0;34m:\u001b[0m \u001b[0mdf\u001b[0m\u001b[0;34m[\u001b[0m\u001b[0mx\u001b[0m\u001b[0;34m]\u001b[0m\u001b[0;34m.\u001b[0m\u001b[0mtolist\u001b[0m\u001b[0;34m(\u001b[0m\u001b[0;34m)\u001b[0m \u001b[0;32mfor\u001b[0m \u001b[0mweek\u001b[0m\u001b[0;34m,\u001b[0m \u001b[0mdf\u001b[0m \u001b[0;32min\u001b[0m \u001b[0mweeklyusersegsats\u001b[0m\u001b[0;34m.\u001b[0m\u001b[0mitems\u001b[0m\u001b[0;34m(\u001b[0m\u001b[0;34m)\u001b[0m\u001b[0;34m}\u001b[0m\u001b[0;34m)\u001b[0m\u001b[0;34m\u001b[0m\u001b[0;34m\u001b[0m\u001b[0m\n\u001b[0m\u001b[1;32m     10\u001b[0m   \u001b[0mcolumn_df\u001b[0m\u001b[0;34m.\u001b[0m\u001b[0mindex\u001b[0m \u001b[0;34m=\u001b[0m \u001b[0muser_cohort_labels\u001b[0m\u001b[0;34m\u001b[0m\u001b[0;34m\u001b[0m\u001b[0m\n\u001b[1;32m     11\u001b[0m   \u001b[0mcolumn_transposed\u001b[0m \u001b[0;34m=\u001b[0m \u001b[0mcolumn_df\u001b[0m\u001b[0;34m.\u001b[0m\u001b[0mtranspose\u001b[0m\u001b[0;34m(\u001b[0m\u001b[0;34m)\u001b[0m\u001b[0;34m\u001b[0m\u001b[0;34m\u001b[0m\u001b[0m\n",
            "\u001b[0;32m/usr/local/lib/python3.10/dist-packages/pandas/core/frame.py\u001b[0m in \u001b[0;36m__getitem__\u001b[0;34m(self, key)\u001b[0m\n\u001b[1;32m   3805\u001b[0m             \u001b[0;32mif\u001b[0m \u001b[0mself\u001b[0m\u001b[0;34m.\u001b[0m\u001b[0mcolumns\u001b[0m\u001b[0;34m.\u001b[0m\u001b[0mnlevels\u001b[0m \u001b[0;34m>\u001b[0m \u001b[0;36m1\u001b[0m\u001b[0;34m:\u001b[0m\u001b[0;34m\u001b[0m\u001b[0;34m\u001b[0m\u001b[0m\n\u001b[1;32m   3806\u001b[0m                 \u001b[0;32mreturn\u001b[0m \u001b[0mself\u001b[0m\u001b[0;34m.\u001b[0m\u001b[0m_getitem_multilevel\u001b[0m\u001b[0;34m(\u001b[0m\u001b[0mkey\u001b[0m\u001b[0;34m)\u001b[0m\u001b[0;34m\u001b[0m\u001b[0;34m\u001b[0m\u001b[0m\n\u001b[0;32m-> 3807\u001b[0;31m             \u001b[0mindexer\u001b[0m \u001b[0;34m=\u001b[0m \u001b[0mself\u001b[0m\u001b[0;34m.\u001b[0m\u001b[0mcolumns\u001b[0m\u001b[0;34m.\u001b[0m\u001b[0mget_loc\u001b[0m\u001b[0;34m(\u001b[0m\u001b[0mkey\u001b[0m\u001b[0;34m)\u001b[0m\u001b[0;34m\u001b[0m\u001b[0;34m\u001b[0m\u001b[0m\n\u001b[0m\u001b[1;32m   3808\u001b[0m             \u001b[0;32mif\u001b[0m \u001b[0mis_integer\u001b[0m\u001b[0;34m(\u001b[0m\u001b[0mindexer\u001b[0m\u001b[0;34m)\u001b[0m\u001b[0;34m:\u001b[0m\u001b[0;34m\u001b[0m\u001b[0;34m\u001b[0m\u001b[0m\n\u001b[1;32m   3809\u001b[0m                 \u001b[0mindexer\u001b[0m \u001b[0;34m=\u001b[0m \u001b[0;34m[\u001b[0m\u001b[0mindexer\u001b[0m\u001b[0;34m]\u001b[0m\u001b[0;34m\u001b[0m\u001b[0;34m\u001b[0m\u001b[0m\n",
            "\u001b[0;32m/usr/local/lib/python3.10/dist-packages/pandas/core/indexes/base.py\u001b[0m in \u001b[0;36mget_loc\u001b[0;34m(self, key, method, tolerance)\u001b[0m\n\u001b[1;32m   3802\u001b[0m                 \u001b[0;32mreturn\u001b[0m \u001b[0mself\u001b[0m\u001b[0;34m.\u001b[0m\u001b[0m_engine\u001b[0m\u001b[0;34m.\u001b[0m\u001b[0mget_loc\u001b[0m\u001b[0;34m(\u001b[0m\u001b[0mcasted_key\u001b[0m\u001b[0;34m)\u001b[0m\u001b[0;34m\u001b[0m\u001b[0;34m\u001b[0m\u001b[0m\n\u001b[1;32m   3803\u001b[0m             \u001b[0;32mexcept\u001b[0m \u001b[0mKeyError\u001b[0m \u001b[0;32mas\u001b[0m \u001b[0merr\u001b[0m\u001b[0;34m:\u001b[0m\u001b[0;34m\u001b[0m\u001b[0;34m\u001b[0m\u001b[0m\n\u001b[0;32m-> 3804\u001b[0;31m                 \u001b[0;32mraise\u001b[0m \u001b[0mKeyError\u001b[0m\u001b[0;34m(\u001b[0m\u001b[0mkey\u001b[0m\u001b[0;34m)\u001b[0m \u001b[0;32mfrom\u001b[0m \u001b[0merr\u001b[0m\u001b[0;34m\u001b[0m\u001b[0;34m\u001b[0m\u001b[0m\n\u001b[0m\u001b[1;32m   3805\u001b[0m             \u001b[0;32mexcept\u001b[0m \u001b[0mTypeError\u001b[0m\u001b[0;34m:\u001b[0m\u001b[0;34m\u001b[0m\u001b[0;34m\u001b[0m\u001b[0m\n\u001b[1;32m   3806\u001b[0m                 \u001b[0;31m# If we have a listlike key, _check_indexing_error will raise\u001b[0m\u001b[0;34m\u001b[0m\u001b[0;34m\u001b[0m\u001b[0m\n",
            "\u001b[0;31mKeyError\u001b[0m: 'Recency'"
          ]
        }
      ]
    },
    {
      "cell_type": "code",
      "source": [
        "def metric_cohort_graph(metric, cohort):\n",
        "    if metric in Line_Chart_Variable_List_Customer:\n",
        "        column_df = pd.DataFrame({week: df[metric].tolist() for week, df in weeklyusersegsats.items()})\n",
        "        column_df.index = user_cohort_labels\n",
        "        column_transposed = column_df.transpose()\n",
        "        each_metric_df[metric] = column_transposed[cohort]  # Select only the specified cohort column\n",
        "\n",
        "        # Replace zero values with np.nan\n",
        "        each_metric_df[metric] = np.where(each_metric_df[metric] == 0, np.nan, each_metric_df[metric])\n",
        "\n",
        "        plt.plot(column_transposed.index, each_metric_df[metric], label=cohort)\n",
        "        plt.xlabel('Weeks')\n",
        "        plt.ylabel(metric)\n",
        "        plt.title(f'Weekly {metric}')\n",
        "        plt.xticks(fontsize=4, rotation=90)\n",
        "        plt.legend(loc='upper left', bbox_to_anchor=(1, 1), title='Customer Cohort Labels')\n",
        "        plt.show()\n",
        "\n",
        "    if metric in Stack_Chart_Variable_List_Customer:\n",
        "        variable_df = pd.DataFrame({week: df[metric].tolist() for week, df in weeklyusersegsats.items()})\n",
        "        variable_df.index = user_cohort_labels\n",
        "        variable_df_transposed = variable_df.transpose()\n",
        "        each_metric_df[metric] = variable_df_transposed[cohort]  # Select only the specified cohort column\n",
        "\n",
        "        # Replace zero values with np.nan\n",
        "        each_metric_df[metric] = np.where(each_metric_df[metric] == 0, np.nan, each_metric_df[metric])\n",
        "\n",
        "        graph2 = pd.DataFrame({cohort: each_metric_df[metric]})\n",
        "        graph2.plot(kind='bar', stacked=True, figsize=(8, 4))\n",
        "        plt.title(f'Weekly {metric}')\n",
        "        plt.xticks(fontsize=4)\n",
        "        plt.xlabel('Weeks')\n",
        "        plt.ylabel(metric)\n",
        "        plt.legend(loc='upper left', bbox_to_anchor=(1, 1), title='Customer Cohort Labels')\n",
        "        plt.show()\n",
        "\n",
        "# Call the function with the specified metric and cohort\n",
        "result = metric_cohort_graph('Recency', 'Champions')"
      ],
      "metadata": {
        "id": "PU1Xfnl2TdbD"
      },
      "execution_count": null,
      "outputs": []
    },
    {
      "cell_type": "code",
      "source": [],
      "metadata": {
        "id": "0XIISlppDLB2"
      },
      "execution_count": null,
      "outputs": []
    }
  ]
}